{
 "cells": [
  {
   "cell_type": "markdown",
   "metadata": {
    "nbpresent": {
     "id": "211e6c7d-d258-4e31-8216-ac33886a0f23"
    },
    "toc": true
   },
   "source": [
    "<h1>Precision @ K Evaluation</h1>"
   ]
  },
  {
   "cell_type": "markdown",
   "metadata": {
    "colab_type": "text",
    "id": "561rrpfX_VaY",
    "nbpresent": {
     "id": "8902066f-f256-4e6f-8533-16bcb4553d9a"
    }
   },
   "source": [
    "**NASA Impact Hurricane data**"
   ]
  },
  {
   "cell_type": "markdown",
   "metadata": {
    "colab_type": "text",
    "id": "6Ev8fWuVejb0",
    "nbpresent": {
     "id": "72814092-eab4-4440-910f-bb7b555411ee"
    }
   },
   "source": [
    "# Imports\n"
   ]
  },
  {
   "cell_type": "code",
   "execution_count": 29,
   "metadata": {
    "colab": {
     "base_uri": "https://localhost:8080/",
     "height": 35
    },
    "colab_type": "code",
    "id": "TKfFt17nGyDm",
    "nbpresent": {
     "id": "da6aef7a-c579-4384-9373-2cb20ffe43c8"
    },
    "outputId": "5f14dba2-bda1-40e5-c791-d45c75971997"
   },
   "outputs": [],
   "source": [
    "import os\n",
    "from os import path\n",
    "import sys\n",
    "import math\n",
    "import cv2 # Read raw image\n",
    "import glob\n",
    "import random\n",
    "import numpy as np\n",
    "import pickle\n",
    "from matplotlib import pyplot as plt\n",
    "from scipy import ndimage # For rotation task or\n",
    "import imutils\n",
    "from skimage.color import rgb2lab, lab2rgb, rgb2gray\n",
    "from skimage.io import imsave\n",
    "from skimage.transform import resize\n",
    "from pprint import pprint\n",
    "from tqdm import tqdm, tqdm_notebook\n",
    "\n",
    "import time\n",
    "import PIL\n",
    "from PIL import Image\n",
    "from sklearn.manifold import TSNE\n",
    "from sklearn.decomposition import PCA\n",
    "from sklearn.neighbors import NearestNeighbors\n",
    "\n",
    "import matplotlib\n",
    "import matplotlib.image as mpimg\n",
    "\n",
    "import tensorflow\n",
    "import tensorflow as tf\n",
    "from tensorflow.keras.preprocessing.image import ImageDataGenerator\n",
    "from tensorflow.keras.applications import VGG16\n",
    "from tensorflow.keras import Model\n",
    "from tensorflow.keras.layers import Dense, Flatten, Dropout\n",
    "from tensorflow.keras.optimizers import Adam\n",
    "from tensorflow.python.keras.utils import data_utils\n",
    "from tensorflow.keras.preprocessing.image import Iterator\n",
    "from tensorflow.keras import Input\n",
    "from tensorflow.keras.layers import Conv2D, Conv2DTranspose, UpSampling2D, AveragePooling2D, MaxPooling2D, Reshape, Conv2DTranspose, ZeroPadding2D, Add\n",
    "from tensorflow.keras.layers import Activation, InputLayer, BatchNormalization\n",
    "from tensorflow.keras.callbacks import TensorBoard\n",
    "from tensorflow.keras.models import Sequential, load_model\n",
    "from tensorflow.keras.preprocessing.image import ImageDataGenerator, array_to_img, img_to_array, load_img\n",
    "from tensorflow.keras.layers import PReLU\n",
    "\n",
    "sys.path.append(\"/home/satyarth934/code/FDL_2020/training_scripts\")\n",
    "import utils\n",
    "\n",
    "# # Check to see if GPU is being used\n",
    "# print(tensorflow.test.gpu_device_name())\n",
    "# print(\"Num GPUs Available: \", tf.config.experimental.list_physical_devices('GPU'))\n",
    "# print(\"Num GPUs Available: \", len(tf.config.experimental.list_physical_devices('GPU')))"
   ]
  },
  {
   "cell_type": "code",
   "execution_count": 30,
   "metadata": {},
   "outputs": [],
   "source": [
    "MODEL_NAME = \"baseAE_hurricane_try3\"\n",
    "BASE_DIR = \"/home/satyarth934/code/FDL_2020/\"\n",
    "\n",
    "FEATURE_DIR = BASE_DIR + \"Features/\" + MODEL_NAME\n",
    "PATH_LIST = FEATURE_DIR + \"/filenames.pkl\"\n",
    "FEATURES_OUTPUT = FEATURE_DIR + \"/features.pkl\"\n",
    "P_AT_K_PLOT =  FEATURE_DIR + \"/p_at_k_plot_2_to_10.png\"\n",
    "\n",
    "# MODIS_DUST_GT_PATH = \"/home/satyarth934/data/modis_data_products/MODIS_Dust_Events_2010_2020_h16v7.pkl\"\n",
    "# DUST_GT = pickle.load(open(MODIS_DUST_GT_PATH, 'rb'))\n",
    "\n",
    "dims = (448,448,3)\n",
    "\n",
    "filenames = pickle.load(open(PATH_LIST,'rb'))\n",
    "feature_list = pickle.load(open(FEATURES_OUTPUT, 'rb'))"
   ]
  },
  {
   "cell_type": "code",
   "execution_count": 31,
   "metadata": {},
   "outputs": [
    {
     "name": "stdout",
     "output_type": "stream",
     "text": [
      "Number of images =  1069\n",
      "Number of features per image =  3920\n"
     ]
    }
   ],
   "source": [
    "num_images = len(filenames)\n",
    "num_features_per_image = len(feature_list[0])\n",
    "print(\"Number of images = \", num_images)\n",
    "print(\"Number of features per image = \", num_features_per_image)"
   ]
  },
  {
   "cell_type": "code",
   "execution_count": 32,
   "metadata": {},
   "outputs": [],
   "source": [
    "# wind_speed in knots\n",
    "def getCategory(wind_speed):\n",
    "    if wind_speed <= 33:\n",
    "        return 'TD'\n",
    "    elif 34 <= wind_speed <= 63:\n",
    "        return 'TS'\n",
    "    elif 64 <= wind_speed <= 82:\n",
    "        return 'C1'\n",
    "    elif 83 <= wind_speed <= 95:\n",
    "        return 'C2'\n",
    "    elif 96 <= wind_speed <= 112:\n",
    "        return 'C3'\n",
    "    elif 113 <= wind_speed <= 136:\n",
    "        return 'C4'\n",
    "    elif wind_speed >= 137:\n",
    "        return 'C5'\n",
    "\n",
    "\n",
    "def classname(str):    \n",
    "    file_name = str.split(\"/\")[-1]\n",
    "    wind_speed = int(file_name.split(\".\")[0].split(\"_\")[-1].strip(\"kts\"))\n",
    "    return getCategory(wind_speed)\n",
    "\n",
    "\n",
    "# Helper function to get the classname and filename\n",
    "def classname_filename(str):\n",
    "    return str(classname(str)) + '/' + str.split('/')[-1]\n",
    "\n",
    "\n",
    "def calculate_accuracy(feature_list, num_nearest_neighbors):\n",
    "    correct_predictions = 0\n",
    "    incorrect_predictions = 0\n",
    "    neighbors = NearestNeighbors(n_neighbors=num_nearest_neighbors,\n",
    "                                 algorithm='brute',\n",
    "                                 metric='euclidean').fit(feature_list)\n",
    "    for i in tqdm_notebook(range(len(feature_list))):\n",
    "        distances, indices = neighbors.kneighbors([feature_list[i]])\n",
    "        for j in range(1, num_nearest_neighbors):\n",
    "            if (classname(filenames[i]) == classname(\n",
    "                    filenames[indices[0][j]])):\n",
    "                correct_predictions += 1\n",
    "            else:\n",
    "                incorrect_predictions += 1\n",
    "        \n",
    "    # Note, this is actually precision @k\n",
    "    print(\n",
    "        \"Accuracy is \",\n",
    "        round(\n",
    "            100.0 * correct_predictions /\n",
    "            (1.0 * correct_predictions + incorrect_predictions), 2))\n",
    "\n",
    "    \n",
    "    return round(\n",
    "            100.0 * correct_predictions /\n",
    "            (1.0 * correct_predictions + incorrect_predictions), 2)\n",
    "\n",
    "\n",
    "def getClassCount():\n",
    "    class_cnt = {\"All\":0}\n",
    "    for i in range(len(filenames)):\n",
    "        cid = classname(filenames[i])\n",
    "        if cid in class_cnt:\n",
    "            class_cnt[cid] += 1\n",
    "        else:\n",
    "            class_cnt[cid] = 1\n",
    "        class_cnt[\"All\"] += 1\n",
    "\n",
    "    return class_cnt\n",
    "\n",
    "\n",
    "def calculate_per_class_accuracy(feature_list, num_nearest_neighbors):\n",
    "    correct_predictions = 0\n",
    "    incorrect_predictions = 0\n",
    "    correct_predictions_map = {}\n",
    "    incorrect_predictions_map = {}\n",
    "    neighbors = NearestNeighbors(n_neighbors=num_nearest_neighbors,\n",
    "                                 algorithm='brute',\n",
    "                                 metric='euclidean').fit(feature_list)\n",
    "    for i in tqdm_notebook(range(len(feature_list))):\n",
    "        distances, indices = neighbors.kneighbors([feature_list[i]])\n",
    "        for j in range(1, num_nearest_neighbors):\n",
    "            query_class = classname(filenames[i])\n",
    "            neighbor_class = classname(filenames[indices[0][j]])\n",
    "            \n",
    "            if (query_class == neighbor_class):\n",
    "                if query_class not in correct_predictions_map:\n",
    "                    correct_predictions_map[query_class] = 1\n",
    "                else:\n",
    "                    correct_predictions_map[query_class] += 1\n",
    "\n",
    "                correct_predictions += 1\n",
    "            else:\n",
    "                if query_class not in incorrect_predictions_map:\n",
    "                    incorrect_predictions_map[query_class] = 1\n",
    "                else:\n",
    "                    incorrect_predictions_map[query_class] += 1\n",
    "                \n",
    "                incorrect_predictions += 1\n",
    "    \n",
    "    correct_predictions_map['All'] = correct_predictions\n",
    "    incorrect_predictions_map['All'] = incorrect_predictions\n",
    "    \n",
    "    class_cnt = getClassCount()\n",
    "    for k in class_cnt:\n",
    "        correct_predictions_map[k] = correct_predictions_map[k] / class_cnt[k]\n",
    "        incorrect_predictions_map[k] = incorrect_predictions_map[k] / class_cnt[k]\n",
    "    \n",
    "    precision_k_map = {}\n",
    "    for k in correct_predictions_map:\n",
    "        precision_k_map[k] = [round(\n",
    "            100.0 * correct_predictions_map[k] /\n",
    "            (1.0 * correct_predictions_map[k] + incorrect_predictions_map[k]), 2)]\n",
    "    \n",
    "    pprint(precision_k_map)\n",
    "    return precision_k_map\n",
    "    \n",
    "    # Note, this is actually precision @k\n",
    "#     print(\n",
    "#         \"Accuracy is \",\n",
    "#         round(\n",
    "#             100.0 * correct_predictions /\n",
    "#             (1.0 * correct_predictions + incorrect_predictions), 2))\n",
    "\n",
    "    \n",
    "#     return round(\n",
    "#             100.0 * correct_predictions /\n",
    "#             (1.0 * correct_predictions + incorrect_predictions), 2)"
   ]
  },
  {
   "cell_type": "code",
   "execution_count": 33,
   "metadata": {},
   "outputs": [
    {
     "name": "stdout",
     "output_type": "stream",
     "text": [
      "2\n"
     ]
    },
    {
     "name": "stderr",
     "output_type": "stream",
     "text": [
      "/opt/conda/lib/python3.7/site-packages/ipykernel_launcher.py:79: TqdmDeprecationWarning: This function will be removed in tqdm==5.0.0\n",
      "Please use `tqdm.notebook.tqdm` instead of `tqdm.tqdm_notebook`\n"
     ]
    },
    {
     "data": {
      "application/vnd.jupyter.widget-view+json": {
       "model_id": "7e7b37f41d4e4afda647b8cb238dc6cd",
       "version_major": 2,
       "version_minor": 0
      },
      "text/plain": [
       "HBox(children=(FloatProgress(value=0.0, max=1069.0), HTML(value='')))"
      ]
     },
     "metadata": {},
     "output_type": "display_data"
    },
    {
     "name": "stdout",
     "output_type": "stream",
     "text": [
      "\n",
      "{'All': [85.03],\n",
      " 'C1': [73.91],\n",
      " 'C2': [75.44],\n",
      " 'C3': [85.42],\n",
      " 'C4': [65.38],\n",
      " 'C5': [60.0],\n",
      " 'TD': [87.54],\n",
      " 'TS': [87.11]}\n",
      "3\n"
     ]
    },
    {
     "name": "stderr",
     "output_type": "stream",
     "text": [
      "/opt/conda/lib/python3.7/site-packages/ipykernel_launcher.py:79: TqdmDeprecationWarning: This function will be removed in tqdm==5.0.0\n",
      "Please use `tqdm.notebook.tqdm` instead of `tqdm.tqdm_notebook`\n"
     ]
    },
    {
     "data": {
      "application/vnd.jupyter.widget-view+json": {
       "model_id": "a85ef71be14b41b1b633883d9cd3a5f2",
       "version_major": 2,
       "version_minor": 0
      },
      "text/plain": [
       "HBox(children=(FloatProgress(value=0.0, max=1069.0), HTML(value='')))"
      ]
     },
     "metadata": {},
     "output_type": "display_data"
    },
    {
     "name": "stdout",
     "output_type": "stream",
     "text": [
      "\n",
      "{'All': [79.28],\n",
      " 'C1': [63.77],\n",
      " 'C2': [64.91],\n",
      " 'C3': [80.21],\n",
      " 'C4': [59.62],\n",
      " 'C5': [60.0],\n",
      " 'TD': [82.71],\n",
      " 'TS': [81.77]}\n",
      "4\n"
     ]
    },
    {
     "name": "stderr",
     "output_type": "stream",
     "text": [
      "/opt/conda/lib/python3.7/site-packages/ipykernel_launcher.py:79: TqdmDeprecationWarning: This function will be removed in tqdm==5.0.0\n",
      "Please use `tqdm.notebook.tqdm` instead of `tqdm.tqdm_notebook`\n"
     ]
    },
    {
     "data": {
      "application/vnd.jupyter.widget-view+json": {
       "model_id": "77daac2ecd9b48648c2c6a43cce45201",
       "version_major": 2,
       "version_minor": 0
      },
      "text/plain": [
       "HBox(children=(FloatProgress(value=0.0, max=1069.0), HTML(value='')))"
      ]
     },
     "metadata": {},
     "output_type": "display_data"
    },
    {
     "name": "stdout",
     "output_type": "stream",
     "text": [
      "\n",
      "{'All': [74.4],\n",
      " 'C1': [51.21],\n",
      " 'C2': [58.48],\n",
      " 'C3': [70.83],\n",
      " 'C4': [53.85],\n",
      " 'C5': [66.67],\n",
      " 'TD': [77.57],\n",
      " 'TS': [78.51]}\n",
      "5\n"
     ]
    },
    {
     "name": "stderr",
     "output_type": "stream",
     "text": [
      "/opt/conda/lib/python3.7/site-packages/ipykernel_launcher.py:79: TqdmDeprecationWarning: This function will be removed in tqdm==5.0.0\n",
      "Please use `tqdm.notebook.tqdm` instead of `tqdm.tqdm_notebook`\n"
     ]
    },
    {
     "data": {
      "application/vnd.jupyter.widget-view+json": {
       "model_id": "fea0586a3b174bf5a277f6f582de9cc5",
       "version_major": 2,
       "version_minor": 0
      },
      "text/plain": [
       "HBox(children=(FloatProgress(value=0.0, max=1069.0), HTML(value='')))"
      ]
     },
     "metadata": {},
     "output_type": "display_data"
    },
    {
     "name": "stdout",
     "output_type": "stream",
     "text": [
      "\n",
      "{'All': [70.11],\n",
      " 'C1': [44.2],\n",
      " 'C2': [51.75],\n",
      " 'C3': [63.02],\n",
      " 'C4': [47.12],\n",
      " 'C5': [55.0],\n",
      " 'TD': [74.53],\n",
      " 'TS': [74.59]}\n",
      "6\n"
     ]
    },
    {
     "name": "stderr",
     "output_type": "stream",
     "text": [
      "/opt/conda/lib/python3.7/site-packages/ipykernel_launcher.py:79: TqdmDeprecationWarning: This function will be removed in tqdm==5.0.0\n",
      "Please use `tqdm.notebook.tqdm` instead of `tqdm.tqdm_notebook`\n"
     ]
    },
    {
     "data": {
      "application/vnd.jupyter.widget-view+json": {
       "model_id": "6776d8e5abba4db5babe097a5edd8bf5",
       "version_major": 2,
       "version_minor": 0
      },
      "text/plain": [
       "HBox(children=(FloatProgress(value=0.0, max=1069.0), HTML(value='')))"
      ]
     },
     "metadata": {},
     "output_type": "display_data"
    },
    {
     "name": "stdout",
     "output_type": "stream",
     "text": [
      "\n",
      "{'All': [66.66],\n",
      " 'C1': [41.74],\n",
      " 'C2': [47.37],\n",
      " 'C3': [55.42],\n",
      " 'C4': [41.54],\n",
      " 'C5': [44.0],\n",
      " 'TD': [71.15],\n",
      " 'TS': [71.6]}\n",
      "7\n"
     ]
    },
    {
     "name": "stderr",
     "output_type": "stream",
     "text": [
      "/opt/conda/lib/python3.7/site-packages/ipykernel_launcher.py:79: TqdmDeprecationWarning: This function will be removed in tqdm==5.0.0\n",
      "Please use `tqdm.notebook.tqdm` instead of `tqdm.tqdm_notebook`\n"
     ]
    },
    {
     "data": {
      "application/vnd.jupyter.widget-view+json": {
       "model_id": "20502c5e03454af1b7b768551d50e4d4",
       "version_major": 2,
       "version_minor": 0
      },
      "text/plain": [
       "HBox(children=(FloatProgress(value=0.0, max=1069.0), HTML(value='')))"
      ]
     },
     "metadata": {},
     "output_type": "display_data"
    },
    {
     "name": "stdout",
     "output_type": "stream",
     "text": [
      "\n",
      "{'All': [64.27],\n",
      " 'C1': [38.41],\n",
      " 'C2': [45.03],\n",
      " 'C3': [50.35],\n",
      " 'C4': [37.18],\n",
      " 'C5': [36.67],\n",
      " 'TD': [69.37],\n",
      " 'TS': [69.34]}\n",
      "8\n"
     ]
    },
    {
     "name": "stderr",
     "output_type": "stream",
     "text": [
      "/opt/conda/lib/python3.7/site-packages/ipykernel_launcher.py:79: TqdmDeprecationWarning: This function will be removed in tqdm==5.0.0\n",
      "Please use `tqdm.notebook.tqdm` instead of `tqdm.tqdm_notebook`\n"
     ]
    },
    {
     "data": {
      "application/vnd.jupyter.widget-view+json": {
       "model_id": "e09383af608049328a2fa120526b613e",
       "version_major": 2,
       "version_minor": 0
      },
      "text/plain": [
       "HBox(children=(FloatProgress(value=0.0, max=1069.0), HTML(value='')))"
      ]
     },
     "metadata": {},
     "output_type": "display_data"
    },
    {
     "name": "stdout",
     "output_type": "stream",
     "text": [
      "\n",
      "{'All': [61.97],\n",
      " 'C1': [34.37],\n",
      " 'C2': [42.86],\n",
      " 'C3': [45.83],\n",
      " 'C4': [32.97],\n",
      " 'C5': [31.43],\n",
      " 'TD': [68.0],\n",
      " 'TS': [67.01]}\n",
      "9\n"
     ]
    },
    {
     "name": "stderr",
     "output_type": "stream",
     "text": [
      "/opt/conda/lib/python3.7/site-packages/ipykernel_launcher.py:79: TqdmDeprecationWarning: This function will be removed in tqdm==5.0.0\n",
      "Please use `tqdm.notebook.tqdm` instead of `tqdm.tqdm_notebook`\n"
     ]
    },
    {
     "data": {
      "application/vnd.jupyter.widget-view+json": {
       "model_id": "a047a86bc56a49398f6dd90757aa26d6",
       "version_major": 2,
       "version_minor": 0
      },
      "text/plain": [
       "HBox(children=(FloatProgress(value=0.0, max=1069.0), HTML(value='')))"
      ]
     },
     "metadata": {},
     "output_type": "display_data"
    },
    {
     "name": "stdout",
     "output_type": "stream",
     "text": [
      "\n",
      "{'All': [60.17],\n",
      " 'C1': [31.52],\n",
      " 'C2': [41.45],\n",
      " 'C3': [41.41],\n",
      " 'C4': [29.33],\n",
      " 'C5': [27.5],\n",
      " 'TD': [66.86],\n",
      " 'TS': [65.26]}\n",
      "10\n"
     ]
    },
    {
     "name": "stderr",
     "output_type": "stream",
     "text": [
      "/opt/conda/lib/python3.7/site-packages/ipykernel_launcher.py:79: TqdmDeprecationWarning: This function will be removed in tqdm==5.0.0\n",
      "Please use `tqdm.notebook.tqdm` instead of `tqdm.tqdm_notebook`\n"
     ]
    },
    {
     "data": {
      "application/vnd.jupyter.widget-view+json": {
       "model_id": "393ce8bb1833443689499fefa025b7fa",
       "version_major": 2,
       "version_minor": 0
      },
      "text/plain": [
       "HBox(children=(FloatProgress(value=0.0, max=1069.0), HTML(value='')))"
      ]
     },
     "metadata": {},
     "output_type": "display_data"
    },
    {
     "name": "stdout",
     "output_type": "stream",
     "text": [
      "\n",
      "{'All': [58.75],\n",
      " 'C1': [29.15],\n",
      " 'C2': [40.16],\n",
      " 'C3': [38.43],\n",
      " 'C4': [28.63],\n",
      " 'C5': [24.44],\n",
      " 'TD': [65.56],\n",
      " 'TS': [63.99]}\n"
     ]
    }
   ],
   "source": [
    "# Select the number of neighbors to check for accuracy measurement\n",
    "# num_neighbor_check = [2,3,4,5,10,20,30,40,50]\n",
    "# num_neighbor_check = [2, 3, 4, 5, 6, 7, 8, 9, 10, 11, 12, 13, 14, 15, 16, 17, 18, 19, 20, 25, 30, 35, 40, 45, 50]\n",
    "num_neighbor_check = [2, 3, 4, 5, 6, 7, 8, 9, 10]\n",
    "\n",
    "precision_k = {}\n",
    "for num_neighbor in num_neighbor_check:\n",
    "    print(num_neighbor)\n",
    "#     presion_k.append(calculate_accuracy(feature_list, num_neighbor))\n",
    "    precision_k_intermediate = calculate_per_class_accuracy(feature_list, num_neighbor)\n",
    "    for k in precision_k_intermediate:\n",
    "        val = precision_k.get(k, [])\n",
    "        val.append(precision_k_intermediate[k])\n",
    "        precision_k[k] = val"
   ]
  },
  {
   "cell_type": "code",
   "execution_count": 36,
   "metadata": {},
   "outputs": [
    {
     "name": "stderr",
     "output_type": "stream",
     "text": [
      "The PostScript backend does not support transparency; partially transparent artists will be rendered opaque.\n",
      "The PostScript backend does not support transparency; partially transparent artists will be rendered opaque.\n"
     ]
    },
    {
     "data": {
      "image/png": "[encoded data removed]",
      "text/plain": [
       "<Figure size 720x432 with 1 Axes>"
      ]
     },
     "metadata": {
      "needs_background": "light"
     },
     "output_type": "display_data"
    }
   ],
   "source": [
    "# Individual classes + Combined All classes\n",
    "\n",
    "color_map = {'C1':'b', 'C2':'g', 'C3':'r', 'C4':'c', 'C5':'m', 'TD':'y', 'TS':'gray', 'All':'k'}\n",
    "\n",
    "plt.figure(figsize=(10,6))\n",
    "plt.suptitle(MODEL_NAME)\n",
    "# plt.xticks(np.arange(2, 51, 2))\n",
    "plt.xlabel('Number of Neighbors', fontweight='bold')\n",
    "plt.ylabel('Accuracy (%)', fontweight='bold')\n",
    "plt.title('Precision at K', fontweight='bold')\n",
    "for k in sorted(precision_k):\n",
    "    plt.scatter(num_neighbor_check, precision_k[k], c=color_map[k], marker='D')\n",
    "    plt.plot(num_neighbor_check, precision_k[k], c=color_map[k])\n",
    "plt.legend(labels=list(sorted(precision_k)), loc='lower left')\n",
    "\n",
    "plt.savefig(P_AT_K_PLOT)\n",
    "plt.savefig(P_AT_K_PLOT.replace(\".png\", \".eps\"))"
   ]
  },
  {
   "cell_type": "code",
   "execution_count": 37,
   "metadata": {},
   "outputs": [
    {
     "name": "stderr",
     "output_type": "stream",
     "text": [
      "The PostScript backend does not support transparency; partially transparent artists will be rendered opaque.\n",
      "The PostScript backend does not support transparency; partially transparent artists will be rendered opaque.\n"
     ]
    },
    {
     "data": {
      "image/png": "[encoded data removed]",
      "text/plain": [
       "<Figure size 720x432 with 1 Axes>"
      ]
     },
     "metadata": {
      "needs_background": "light"
     },
     "output_type": "display_data"
    }
   ],
   "source": [
    "# Individual classes only\n",
    "\n",
    "color_map = {'C1':'b', 'C2':'g', 'C3':'r', 'C4':'c', 'C5':'m', 'TD':'y', 'TS':'gray', 'All':'k'}\n",
    "\n",
    "plt.figure(figsize=(10,6))\n",
    "plt.suptitle(MODEL_NAME)\n",
    "# plt.xticks(np.arange(2, 51, 2))\n",
    "plt.xlabel('Number of Neighbors', fontweight='bold')\n",
    "plt.ylabel('Accuracy (%)', fontweight='bold')\n",
    "plt.title('Precision at K', fontweight='bold')\n",
    "for k in sorted(precision_k):\n",
    "    if k == \"All\":\n",
    "        continue\n",
    "    plt.scatter(num_neighbor_check, precision_k[k], c=color_map[k], marker='D')\n",
    "    plt.plot(num_neighbor_check, precision_k[k], c=color_map[k])\n",
    "plt.legend(labels=list(sorted(set(precision_k) - set([\"All\"]))), loc='lower left')\n",
    "\n",
    "plt.savefig(P_AT_K_PLOT.replace(\".png\", \"_classes_only.png\"))\n",
    "plt.savefig(P_AT_K_PLOT.replace(\".png\", \"_classes_only.eps\"))"
   ]
  },
  {
   "cell_type": "code",
   "execution_count": 38,
   "metadata": {},
   "outputs": [
    {
     "name": "stdout",
     "output_type": "stream",
     "text": [
      "All : 1069\n",
      "C1 : 69\n",
      "C2 : 57\n",
      "C3 : 48\n",
      "C4 : 26\n",
      "C5 : 5\n",
      "TD : 321\n",
      "TS : 543\n"
     ]
    }
   ],
   "source": [
    "class_cnt = getClassCount()\n",
    "for k in sorted(class_cnt):\n",
    "    print(k, \":\", class_cnt[k])"
   ]
  }
 ],
 "metadata": {
  "accelerator": "GPU",
  "colab": {
   "collapsed_sections": [],
   "name": "SelfSup-(Autoencoder, UCMERCED).ipynb",
   "provenance": []
  },
  "kernelspec": {
   "display_name": "Python 3",
   "language": "python",
   "name": "python3"
  },
  "language_info": {
   "codemirror_mode": {
    "name": "ipython",
    "version": 3
   },
   "file_extension": ".py",
   "mimetype": "text/x-python",
   "name": "python",
   "nbconvert_exporter": "python",
   "pygments_lexer": "ipython3",
   "version": "3.7.6"
  },
  "latex_envs": {
   "LaTeX_envs_menu_present": true,
   "autoclose": true,
   "autocomplete": true,
   "bibliofile": "biblio.bib",
   "cite_by": "apalike",
   "current_citInitial": 1,
   "eqLabelWithNumbers": true,
   "eqNumInitial": 1,
   "hotkeys": {
    "equation": "Ctrl-E",
    "itemize": "Ctrl-I"
   },
   "labels_anchors": false,
   "latex_user_defs": false,
   "report_style_numbering": false,
   "user_envs_cfg": false
  },
  "toc": {
   "base_numbering": 1,
   "nav_menu": {},
   "number_sections": true,
   "sideBar": false,
   "skip_h1_title": false,
   "title_cell": "Table of Contents",
   "title_sidebar": "Contents",
   "toc_cell": true,
   "toc_position": {},
   "toc_section_display": true,
   "toc_window_display": false
  },
  "varInspector": {
   "cols": {
    "lenName": 16,
    "lenType": 16,
    "lenVar": 40
   },
   "kernels_config": {
    "python": {
     "delete_cmd_postfix": "",
     "delete_cmd_prefix": "del ",
     "library": "var_list.py",
     "varRefreshCmd": "print(var_dic_list())"
    },
    "r": {
     "delete_cmd_postfix": ") ",
     "delete_cmd_prefix": "rm(",
     "library": "var_list.r",
     "varRefreshCmd": "cat(var_dic_list()) "
    }
   },
   "types_to_exclude": [
    "module",
    "function",
    "builtin_function_or_method",
    "instance",
    "_Feature"
   ],
   "window_display": false
  }
 },
 "nbformat": 4,
 "nbformat_minor": 4
}
