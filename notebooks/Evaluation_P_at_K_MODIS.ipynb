{
 "cells": [
  {
   "cell_type": "markdown",
   "metadata": {
    "nbpresent": {
     "id": "211e6c7d-d258-4e31-8216-ac33886a0f23"
    },
    "toc": true
   },
   "source": [
    "<h1>Precision @ K Evaluation</h1>"
   ]
  },
  {
   "cell_type": "markdown",
   "metadata": {
    "colab_type": "text",
    "id": "561rrpfX_VaY",
    "nbpresent": {
     "id": "8902066f-f256-4e6f-8533-16bcb4553d9a"
    }
   },
   "source": [
    "**MODIS 10 year data**"
   ]
  },
  {
   "cell_type": "markdown",
   "metadata": {
    "colab_type": "text",
    "id": "6Ev8fWuVejb0",
    "nbpresent": {
     "id": "72814092-eab4-4440-910f-bb7b555411ee"
    }
   },
   "source": [
    "# Imports\n"
   ]
  },
  {
   "cell_type": "code",
   "execution_count": 26,
   "metadata": {
    "colab": {
     "base_uri": "https://localhost:8080/",
     "height": 35
    },
    "colab_type": "code",
    "id": "TKfFt17nGyDm",
    "nbpresent": {
     "id": "da6aef7a-c579-4384-9373-2cb20ffe43c8"
    },
    "outputId": "5f14dba2-bda1-40e5-c791-d45c75971997"
   },
   "outputs": [],
   "source": [
    "import os\n",
    "from os import path\n",
    "import sys\n",
    "import math\n",
    "import cv2 # Read raw image\n",
    "import glob\n",
    "import random\n",
    "import numpy as np\n",
    "import pickle\n",
    "from matplotlib import pyplot as plt\n",
    "from scipy import ndimage # For rotation task or\n",
    "import imutils\n",
    "from skimage.color import rgb2lab, lab2rgb, rgb2gray\n",
    "from skimage.io import imsave\n",
    "from skimage.transform import resize\n",
    "from pprint import pprint\n",
    "from tqdm import tqdm, tqdm_notebook\n",
    "\n",
    "import time\n",
    "import PIL\n",
    "from PIL import Image\n",
    "from sklearn.manifold import TSNE\n",
    "from sklearn.decomposition import PCA\n",
    "from sklearn.neighbors import NearestNeighbors\n",
    "\n",
    "import matplotlib\n",
    "import matplotlib.image as mpimg\n",
    "\n",
    "import tensorflow\n",
    "import tensorflow as tf\n",
    "from tensorflow.keras.preprocessing.image import ImageDataGenerator\n",
    "from tensorflow.keras.applications import VGG16\n",
    "from tensorflow.keras import Model\n",
    "from tensorflow.keras.layers import Dense, Flatten, Dropout\n",
    "from tensorflow.keras.optimizers import Adam\n",
    "from tensorflow.python.keras.utils import data_utils\n",
    "from tensorflow.keras.preprocessing.image import Iterator\n",
    "from tensorflow.keras import Input\n",
    "from tensorflow.keras.layers import Conv2D, Conv2DTranspose, UpSampling2D, AveragePooling2D, MaxPooling2D, Reshape, Conv2DTranspose, ZeroPadding2D, Add\n",
    "from tensorflow.keras.layers import Activation, InputLayer, BatchNormalization\n",
    "from tensorflow.keras.callbacks import TensorBoard\n",
    "from tensorflow.keras.models import Sequential, load_model\n",
    "from tensorflow.keras.preprocessing.image import ImageDataGenerator, array_to_img, img_to_array, load_img\n",
    "from tensorflow.keras.layers import PReLU\n",
    "\n",
    "sys.path.append(\"/home/satyarth934/code/FDL_2020/training_scripts\")\n",
    "import utils\n",
    "\n",
    "# # Check to see if GPU is being used\n",
    "# print(tensorflow.test.gpu_device_name())\n",
    "# print(\"Num GPUs Available: \", tf.config.experimental.list_physical_devices('GPU'))\n",
    "# print(\"Num GPUs Available: \", len(tf.config.experimental.list_physical_devices('GPU')))"
   ]
  },
  {
   "cell_type": "code",
   "execution_count": 27,
   "metadata": {},
   "outputs": [],
   "source": [
    "MODEL_NAME = \"baseAE_median_localRandom_in_swatch\"\n",
    "BASE_DIR = \"/home/satyarth934/code/FDL_2020/\"\n",
    "\n",
    "FEATURE_DIR = BASE_DIR + \"Features/\" + MODEL_NAME\n",
    "PATH_LIST = FEATURE_DIR + \"/filenames.pkl\"\n",
    "FEATURES_OUTPUT = FEATURE_DIR + \"/features.pkl\"\n",
    "P_AT_K_PLOT =  FEATURE_DIR + \"/p_at_k_plot_2_to_10.png\"\n",
    "\n",
    "MODIS_DUST_GT_PATH = \"/home/satyarth934/data/modis_data_products/MODIS_Dust_Events_2010_2020_h16v7.pkl\"\n",
    "DUST_GT = pickle.load(open(MODIS_DUST_GT_PATH, 'rb'))\n",
    "\n",
    "DUST_GT_LABELS = {0:\"Dust\", 1:\"Hazy\", 2:\"No_Dust\"}\n",
    "\n",
    "dims = (448,448,3)\n",
    "\n",
    "filenames = pickle.load(open(PATH_LIST,'rb'))\n",
    "feature_list = pickle.load(open(FEATURES_OUTPUT, 'rb'))"
   ]
  },
  {
   "cell_type": "code",
   "execution_count": 28,
   "metadata": {},
   "outputs": [
    {
     "name": "stdout",
     "output_type": "stream",
     "text": [
      "736 736\n",
      "359 359\n"
     ]
    }
   ],
   "source": [
    "# Select only the filenames that are labelled.\n",
    "print(len(filenames), len(feature_list))\n",
    "filenames = [f for f in filenames if int(f.split(\"/\")[-1].split(\".\")[1][1:]) < 2015248]\n",
    "feature_list = [feature_list[i] for i, f in enumerate(filenames) if int(f.split(\"/\")[-1].split(\".\")[1][1:]) < 2015248]\n",
    "print(len(filenames), len(feature_list))"
   ]
  },
  {
   "cell_type": "code",
   "execution_count": 29,
   "metadata": {},
   "outputs": [
    {
     "name": "stdout",
     "output_type": "stream",
     "text": [
      "Number of images =  359\n",
      "Number of features per image =  3920\n"
     ]
    }
   ],
   "source": [
    "num_images = len(filenames)\n",
    "num_features_per_image = len(feature_list[0])\n",
    "print(\"Number of images = \", num_images)\n",
    "print(\"Number of features per image = \", num_features_per_image)"
   ]
  },
  {
   "cell_type": "code",
   "execution_count": 30,
   "metadata": {},
   "outputs": [],
   "source": [
    "def classname(str):\n",
    "    file_name = str.split(\"/\")[-1]\n",
    "    day = file_name.split(\".\")[1][1:]\n",
    "    try:\n",
    "        return DUST_GT_LABELS[DUST_GT[day]]\n",
    "    except KeyError:\n",
    "        return 'unknown'\n",
    "\n",
    "# Helper function to get the classname and filename\n",
    "def classname_filename(str):\n",
    "    return str(classname(str)) + '/' + str.split('/')[-1]\n",
    "\n",
    "\n",
    "def calculate_accuracy(feature_list, num_nearest_neighbors):\n",
    "    correct_predictions = 0\n",
    "    incorrect_predictions = 0\n",
    "    neighbors = NearestNeighbors(n_neighbors=num_nearest_neighbors,\n",
    "                                 algorithm='brute',\n",
    "                                 metric='euclidean').fit(feature_list)\n",
    "    for i in tqdm_notebook(range(len(feature_list))):\n",
    "        distances, indices = neighbors.kneighbors([feature_list[i]])\n",
    "        for j in range(1, num_nearest_neighbors):\n",
    "            if (classname(filenames[i]) == classname(\n",
    "                    filenames[indices[0][j]])):\n",
    "                correct_predictions += 1\n",
    "            else:\n",
    "                incorrect_predictions += 1\n",
    "        \n",
    "    # Note, this is actually precision @k\n",
    "    print(\n",
    "        \"Accuracy is \",\n",
    "        round(\n",
    "            100.0 * correct_predictions /\n",
    "            (1.0 * correct_predictions + incorrect_predictions), 2))\n",
    "\n",
    "    \n",
    "    return round(\n",
    "            100.0 * correct_predictions /\n",
    "            (1.0 * correct_predictions + incorrect_predictions), 2)\n",
    "\n",
    "\n",
    "def getClassCount():\n",
    "    class_cnt = {\"All\":0}\n",
    "    for i in range(len(filenames)):\n",
    "        cid = classname(filenames[i])\n",
    "        if cid in class_cnt:\n",
    "            class_cnt[cid] += 1\n",
    "        else:\n",
    "            class_cnt[cid] = 1\n",
    "        class_cnt[\"All\"] += 1\n",
    "\n",
    "    return class_cnt\n",
    "\n",
    "\n",
    "def calculate_per_class_accuracy(feature_list, num_nearest_neighbors):\n",
    "    correct_predictions = 0\n",
    "    incorrect_predictions = 0\n",
    "    correct_predictions_map = {}\n",
    "    incorrect_predictions_map = {}\n",
    "    neighbors = NearestNeighbors(n_neighbors=num_nearest_neighbors,\n",
    "                                 algorithm='brute',\n",
    "                                 metric='euclidean').fit(feature_list)\n",
    "    for i in tqdm_notebook(range(len(feature_list))):\n",
    "        distances, indices = neighbors.kneighbors([feature_list[i]])\n",
    "        for j in range(1, num_nearest_neighbors):\n",
    "            query_class = classname(filenames[i])\n",
    "            neighbor_class = classname(filenames[indices[0][j]])\n",
    "            \n",
    "            if (query_class == neighbor_class):\n",
    "                if query_class not in correct_predictions_map:\n",
    "                    correct_predictions_map[query_class] = 1\n",
    "                else:\n",
    "                    correct_predictions_map[query_class] += 1\n",
    "\n",
    "                correct_predictions += 1\n",
    "            else:\n",
    "                if query_class not in incorrect_predictions_map:\n",
    "                    incorrect_predictions_map[query_class] = 1\n",
    "                else:\n",
    "                    incorrect_predictions_map[query_class] += 1\n",
    "                \n",
    "                incorrect_predictions += 1\n",
    "    \n",
    "    correct_predictions_map['All'] = correct_predictions\n",
    "    incorrect_predictions_map['All'] = incorrect_predictions\n",
    "    \n",
    "    class_cnt = getClassCount()\n",
    "    for k in class_cnt:\n",
    "        correct_predictions_map[k] = correct_predictions_map[k] / class_cnt[k]\n",
    "        incorrect_predictions_map[k] = incorrect_predictions_map[k] / class_cnt[k]\n",
    "    \n",
    "    precision_k_map = {}\n",
    "    for k in correct_predictions_map:\n",
    "        precision_k_map[k] = [round(\n",
    "            100.0 * correct_predictions_map[k] /\n",
    "            (1.0 * correct_predictions_map[k] + incorrect_predictions_map[k]), 2)]\n",
    "    \n",
    "    pprint(precision_k_map)\n",
    "    return precision_k_map"
   ]
  },
  {
   "cell_type": "code",
   "execution_count": 6,
   "metadata": {},
   "outputs": [
    {
     "name": "stdout",
     "output_type": "stream",
     "text": [
      "2\n"
     ]
    },
    {
     "name": "stderr",
     "output_type": "stream",
     "text": [
      "/opt/conda/lib/python3.7/site-packages/ipykernel_launcher.py:63: TqdmDeprecationWarning: This function will be removed in tqdm==5.0.0\n",
      "Please use `tqdm.notebook.tqdm` instead of `tqdm.tqdm_notebook`\n"
     ]
    },
    {
     "data": {
      "application/vnd.jupyter.widget-view+json": {
       "model_id": "fec6c0d367b04fc6b2c2268bae61776e",
       "version_major": 2,
       "version_minor": 0
      },
      "text/plain": [
       "HBox(children=(FloatProgress(value=0.0, max=359.0), HTML(value='')))"
      ]
     },
     "metadata": {},
     "output_type": "display_data"
    },
    {
     "name": "stdout",
     "output_type": "stream",
     "text": [
      "\n",
      "{'All': [55.99], 'Dust': [42.37], 'Hazy': [41.24], 'No_Dust': [67.0]}\n",
      "3\n"
     ]
    },
    {
     "name": "stderr",
     "output_type": "stream",
     "text": [
      "/opt/conda/lib/python3.7/site-packages/ipykernel_launcher.py:63: TqdmDeprecationWarning: This function will be removed in tqdm==5.0.0\n",
      "Please use `tqdm.notebook.tqdm` instead of `tqdm.tqdm_notebook`\n"
     ]
    },
    {
     "data": {
      "application/vnd.jupyter.widget-view+json": {
       "model_id": "8c0524cb5c2e4a128defff733eb11f07",
       "version_major": 2,
       "version_minor": 0
      },
      "text/plain": [
       "HBox(children=(FloatProgress(value=0.0, max=359.0), HTML(value='')))"
      ]
     },
     "metadata": {},
     "output_type": "display_data"
    },
    {
     "name": "stdout",
     "output_type": "stream",
     "text": [
      "\n",
      "{'All': [49.44], 'Dust': [28.81], 'Hazy': [31.96], 'No_Dust': [63.79]}\n",
      "4\n"
     ]
    },
    {
     "name": "stderr",
     "output_type": "stream",
     "text": [
      "/opt/conda/lib/python3.7/site-packages/ipykernel_launcher.py:63: TqdmDeprecationWarning: This function will be removed in tqdm==5.0.0\n",
      "Please use `tqdm.notebook.tqdm` instead of `tqdm.tqdm_notebook`\n"
     ]
    },
    {
     "data": {
      "application/vnd.jupyter.widget-view+json": {
       "model_id": "44368ef787d3410b81071ee337fac2eb",
       "version_major": 2,
       "version_minor": 0
      },
      "text/plain": [
       "HBox(children=(FloatProgress(value=0.0, max=359.0), HTML(value='')))"
      ]
     },
     "metadata": {},
     "output_type": "display_data"
    },
    {
     "name": "stdout",
     "output_type": "stream",
     "text": [
      "\n",
      "{'All': [47.63], 'Dust': [28.25], 'Hazy': [28.87], 'No_Dust': [62.23]}\n",
      "5\n"
     ]
    },
    {
     "name": "stderr",
     "output_type": "stream",
     "text": [
      "/opt/conda/lib/python3.7/site-packages/ipykernel_launcher.py:63: TqdmDeprecationWarning: This function will be removed in tqdm==5.0.0\n",
      "Please use `tqdm.notebook.tqdm` instead of `tqdm.tqdm_notebook`\n"
     ]
    },
    {
     "data": {
      "application/vnd.jupyter.widget-view+json": {
       "model_id": "50dbd1c39f154158b6322d640fb36d6f",
       "version_major": 2,
       "version_minor": 0
      },
      "text/plain": [
       "HBox(children=(FloatProgress(value=0.0, max=359.0), HTML(value='')))"
      ]
     },
     "metadata": {},
     "output_type": "display_data"
    },
    {
     "name": "stdout",
     "output_type": "stream",
     "text": [
      "\n",
      "{'All': [46.52], 'Dust': [23.31], 'Hazy': [27.32], 'No_Dust': [62.44]}\n",
      "6\n"
     ]
    },
    {
     "name": "stderr",
     "output_type": "stream",
     "text": [
      "/opt/conda/lib/python3.7/site-packages/ipykernel_launcher.py:63: TqdmDeprecationWarning: This function will be removed in tqdm==5.0.0\n",
      "Please use `tqdm.notebook.tqdm` instead of `tqdm.tqdm_notebook`\n"
     ]
    },
    {
     "data": {
      "application/vnd.jupyter.widget-view+json": {
       "model_id": "edd5a5f2198d45299a1b502c625c30ff",
       "version_major": 2,
       "version_minor": 0
      },
      "text/plain": [
       "HBox(children=(FloatProgress(value=0.0, max=359.0), HTML(value='')))"
      ]
     },
     "metadata": {},
     "output_type": "display_data"
    },
    {
     "name": "stdout",
     "output_type": "stream",
     "text": [
      "\n",
      "{'All': [46.02], 'Dust': [21.36], 'Hazy': [26.19], 'No_Dust': [62.66]}\n",
      "7\n"
     ]
    },
    {
     "name": "stderr",
     "output_type": "stream",
     "text": [
      "/opt/conda/lib/python3.7/site-packages/ipykernel_launcher.py:63: TqdmDeprecationWarning: This function will be removed in tqdm==5.0.0\n",
      "Please use `tqdm.notebook.tqdm` instead of `tqdm.tqdm_notebook`\n"
     ]
    },
    {
     "data": {
      "application/vnd.jupyter.widget-view+json": {
       "model_id": "216986908cd64f99a040062ce30ace5e",
       "version_major": 2,
       "version_minor": 0
      },
      "text/plain": [
       "HBox(children=(FloatProgress(value=0.0, max=359.0), HTML(value='')))"
      ]
     },
     "metadata": {},
     "output_type": "display_data"
    },
    {
     "name": "stdout",
     "output_type": "stream",
     "text": [
      "\n",
      "{'All': [45.91], 'Dust': [20.34], 'Hazy': [24.57], 'No_Dust': [63.55]}\n",
      "8\n"
     ]
    },
    {
     "name": "stderr",
     "output_type": "stream",
     "text": [
      "/opt/conda/lib/python3.7/site-packages/ipykernel_launcher.py:63: TqdmDeprecationWarning: This function will be removed in tqdm==5.0.0\n",
      "Please use `tqdm.notebook.tqdm` instead of `tqdm.tqdm_notebook`\n"
     ]
    },
    {
     "data": {
      "application/vnd.jupyter.widget-view+json": {
       "model_id": "4972f2e204204c03b0a2840c5da146c1",
       "version_major": 2,
       "version_minor": 0
      },
      "text/plain": [
       "HBox(children=(FloatProgress(value=0.0, max=359.0), HTML(value='')))"
      ]
     },
     "metadata": {},
     "output_type": "display_data"
    },
    {
     "name": "stdout",
     "output_type": "stream",
     "text": [
      "\n",
      "{'All': [45.28], 'Dust': [19.61], 'Hazy': [24.15], 'No_Dust': [62.84]}\n",
      "9\n"
     ]
    },
    {
     "name": "stderr",
     "output_type": "stream",
     "text": [
      "/opt/conda/lib/python3.7/site-packages/ipykernel_launcher.py:63: TqdmDeprecationWarning: This function will be removed in tqdm==5.0.0\n",
      "Please use `tqdm.notebook.tqdm` instead of `tqdm.tqdm_notebook`\n"
     ]
    },
    {
     "data": {
      "application/vnd.jupyter.widget-view+json": {
       "model_id": "d8f7c8dd4a84424199e4bf67b2aeb5be",
       "version_major": 2,
       "version_minor": 0
      },
      "text/plain": [
       "HBox(children=(FloatProgress(value=0.0, max=359.0), HTML(value='')))"
      ]
     },
     "metadata": {},
     "output_type": "display_data"
    },
    {
     "name": "stdout",
     "output_type": "stream",
     "text": [
      "\n",
      "{'All': [44.64], 'Dust': [19.92], 'Hazy': [23.07], 'No_Dust': [62.13]}\n",
      "10\n"
     ]
    },
    {
     "name": "stderr",
     "output_type": "stream",
     "text": [
      "/opt/conda/lib/python3.7/site-packages/ipykernel_launcher.py:63: TqdmDeprecationWarning: This function will be removed in tqdm==5.0.0\n",
      "Please use `tqdm.notebook.tqdm` instead of `tqdm.tqdm_notebook`\n"
     ]
    },
    {
     "data": {
      "application/vnd.jupyter.widget-view+json": {
       "model_id": "5b3991c06b824210a50adb9bf2c56011",
       "version_major": 2,
       "version_minor": 0
      },
      "text/plain": [
       "HBox(children=(FloatProgress(value=0.0, max=359.0), HTML(value='')))"
      ]
     },
     "metadata": {},
     "output_type": "display_data"
    },
    {
     "name": "stdout",
     "output_type": "stream",
     "text": [
      "\n",
      "{'All': [44.26], 'Dust': [18.27], 'Hazy': [23.02], 'No_Dust': [61.96]}\n"
     ]
    }
   ],
   "source": [
    "# Select the number of neighbors to check for accuracy measurement\n",
    "# num_neighbor_check = [2, 3, 4, 5, 6, 7, 8, 9, 10, 11, 12, 13, 14, 15, 16, 17, 18, 19, 20, 25, 30, 35, 40, 45, 50]\n",
    "num_neighbor_check = [2, 3, 4, 5, 6, 7, 8, 9, 10]\n",
    "\n",
    "# presion_k = []\n",
    "# for num_neighbor in num_neighbor_check:\n",
    "#     print(num_neighbor)\n",
    "#     presion_k.append(calculate_accuracy(feature_list, num_neighbor))\n",
    "\n",
    "precision_k = {}\n",
    "for num_neighbor in num_neighbor_check:\n",
    "    print(num_neighbor)\n",
    "#     presion_k.append(calculate_accuracy(feature_list, num_neighbor))\n",
    "    precision_k_intermediate = calculate_per_class_accuracy(feature_list, num_neighbor)\n",
    "    for k in precision_k_intermediate:\n",
    "        val = precision_k.get(k, [])\n",
    "        val.append(precision_k_intermediate[k])\n",
    "        precision_k[k] = val"
   ]
  },
  {
   "cell_type": "code",
   "execution_count": 25,
   "metadata": {},
   "outputs": [
    {
     "data": {
      "text/plain": [
       "<matplotlib.legend.Legend at 0x7f91ec6a7a90>"
      ]
     },
     "execution_count": 25,
     "metadata": {},
     "output_type": "execute_result"
    },
    {
     "data": {
      "image/png": "[encoded data removed]",
      "text/plain": [
       "<Figure size 720x432 with 1 Axes>"
      ]
     },
     "metadata": {
      "needs_background": "light"
     },
     "output_type": "display_data"
    }
   ],
   "source": [
    "# Individual classes + Combined All classes\n",
    "\n",
    "color_map = {\"Dust\":'b', \"Hazy\":'g', \"No_Dust\":'r', 'All':'k'}\n",
    "\n",
    "plt.figure(figsize=(10,6))\n",
    "plt.suptitle(MODEL_NAME)\n",
    "# plt.xticks(np.arange(2, 51, 2))\n",
    "plt.xlabel('Number of Neighbors', fontweight='bold')\n",
    "plt.ylabel('Accuracy (%)', fontweight='bold')\n",
    "plt.title('Precision at K', fontweight='bold')\n",
    "for k in precision_k:\n",
    "    plt.scatter(num_neighbor_check, precision_k[k], c=color_map[k], marker='D')\n",
    "    plt.plot(num_neighbor_check, precision_k[k], c=color_map[k])\n",
    "plt.legend(labels=list(precision_k.keys()))\n",
    "    \n",
    "plt.savefig(P_AT_K_PLOT)\n",
    "plt.savefig(P_AT_K_PLOT.replace(\".png\", \".eps\"))"
   ]
  },
  {
   "cell_type": "code",
   "execution_count": 23,
   "metadata": {},
   "outputs": [
    {
     "name": "stderr",
     "output_type": "stream",
     "text": [
      "The PostScript backend does not support transparency; partially transparent artists will be rendered opaque.\n",
      "The PostScript backend does not support transparency; partially transparent artists will be rendered opaque.\n"
     ]
    },
    {
     "data": {
      "image/png": "[encoded data removed]",
      "text/plain": [
       "<Figure size 720x432 with 1 Axes>"
      ]
     },
     "metadata": {
      "needs_background": "light"
     },
     "output_type": "display_data"
    }
   ],
   "source": [
    "# Individual classes only\n",
    "\n",
    "color_map = {\"Dust\":'b', \"Hazy\":'g', \"No_Dust\":'r', 'All':'k'}\n",
    "\n",
    "plt.figure(figsize=(10,6))\n",
    "plt.suptitle(MODEL_NAME)\n",
    "# plt.xticks(np.arange(2, 51, 2))\n",
    "plt.xlabel('Number of Neighbors', fontweight='bold')\n",
    "plt.ylabel('Accuracy (%)', fontweight='bold')\n",
    "plt.title('Precision at K', fontweight='bold')\n",
    "for k in precision_k:\n",
    "    if k == \"All\":\n",
    "        continue\n",
    "    plt.scatter(num_neighbor_check, precision_k[k], c=color_map[k], marker='D')\n",
    "    plt.plot(num_neighbor_check, precision_k[k], c=color_map[k])\n",
    "plt.legend(labels=list(set(precision_k.keys()) - set([\"All\"])))\n",
    "\n",
    "plt.savefig(P_AT_K_PLOT.replace(\".png\", \"_classes_only.png\"))\n",
    "plt.savefig(P_AT_K_PLOT.replace(\".png\", \"_classes_only.eps\"))"
   ]
  },
  {
   "cell_type": "code",
   "execution_count": 31,
   "metadata": {},
   "outputs": [
    {
     "name": "stdout",
     "output_type": "stream",
     "text": [
      "All : 359\n",
      "Dust : 59\n",
      "Hazy : 97\n",
      "No_Dust : 203\n"
     ]
    }
   ],
   "source": [
    "class_cnt = getClassCount()\n",
    "for k in sorted(class_cnt):\n",
    "    print(k, \":\", class_cnt[k])"
   ]
  }
 ],
 "metadata": {
  "accelerator": "GPU",
  "colab": {
   "collapsed_sections": [],
   "name": "SelfSup-(Autoencoder, UCMERCED).ipynb",
   "provenance": []
  },
  "kernelspec": {
   "display_name": "Python 3",
   "language": "python",
   "name": "python3"
  },
  "language_info": {
   "codemirror_mode": {
    "name": "ipython",
    "version": 3
   },
   "file_extension": ".py",
   "mimetype": "text/x-python",
   "name": "python",
   "nbconvert_exporter": "python",
   "pygments_lexer": "ipython3",
   "version": "3.7.6"
  },
  "latex_envs": {
   "LaTeX_envs_menu_present": true,
   "autoclose": true,
   "autocomplete": true,
   "bibliofile": "biblio.bib",
   "cite_by": "apalike",
   "current_citInitial": 1,
   "eqLabelWithNumbers": true,
   "eqNumInitial": 1,
   "hotkeys": {
    "equation": "Ctrl-E",
    "itemize": "Ctrl-I"
   },
   "labels_anchors": false,
   "latex_user_defs": false,
   "report_style_numbering": false,
   "user_envs_cfg": false
  },
  "toc": {
   "base_numbering": 1,
   "nav_menu": {},
   "number_sections": true,
   "sideBar": false,
   "skip_h1_title": false,
   "title_cell": "Table of Contents",
   "title_sidebar": "Contents",
   "toc_cell": true,
   "toc_position": {},
   "toc_section_display": true,
   "toc_window_display": false
  },
  "varInspector": {
   "cols": {
    "lenName": 16,
    "lenType": 16,
    "lenVar": 40
   },
   "kernels_config": {
    "python": {
     "delete_cmd_postfix": "",
     "delete_cmd_prefix": "del ",
     "library": "var_list.py",
     "varRefreshCmd": "print(var_dic_list())"
    },
    "r": {
     "delete_cmd_postfix": ") ",
     "delete_cmd_prefix": "rm(",
     "library": "var_list.r",
     "varRefreshCmd": "cat(var_dic_list()) "
    }
   },
   "types_to_exclude": [
    "module",
    "function",
    "builtin_function_or_method",
    "instance",
    "_Feature"
   ],
   "window_display": false
  }
 },
 "nbformat": 4,
 "nbformat_minor": 4
}
