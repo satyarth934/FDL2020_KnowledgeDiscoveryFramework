{
 "cells": [
  {
   "cell_type": "markdown",
   "metadata": {
    "nbpresent": {
     "id": "211e6c7d-d258-4e31-8216-ac33886a0f23"
    },
    "toc": true
   },
   "source": [
    "<h1>Precision @ K Evaluation</h1>"
   ]
  },
  {
   "cell_type": "markdown",
   "metadata": {
    "colab_type": "text",
    "id": "561rrpfX_VaY",
    "nbpresent": {
     "id": "8902066f-f256-4e6f-8533-16bcb4553d9a"
    }
   },
   "source": [
    "**NASA Impact Hurricane data**"
   ]
  },
  {
   "cell_type": "markdown",
   "metadata": {
    "colab_type": "text",
    "id": "6Ev8fWuVejb0",
    "nbpresent": {
     "id": "72814092-eab4-4440-910f-bb7b555411ee"
    }
   },
   "source": [
    "# Imports\n"
   ]
  },
  {
   "cell_type": "code",
   "execution_count": 52,
   "metadata": {
    "colab": {
     "base_uri": "https://localhost:8080/",
     "height": 35
    },
    "colab_type": "code",
    "id": "TKfFt17nGyDm",
    "nbpresent": {
     "id": "da6aef7a-c579-4384-9373-2cb20ffe43c8"
    },
    "outputId": "5f14dba2-bda1-40e5-c791-d45c75971997"
   },
   "outputs": [],
   "source": [
    "import os\n",
    "from os import path\n",
    "import sys\n",
    "import math\n",
    "import cv2 # Read raw image\n",
    "import glob\n",
    "import random\n",
    "import numpy as np\n",
    "import pickle\n",
    "from matplotlib import pyplot as plt\n",
    "from scipy import ndimage # For rotation task or\n",
    "import imutils\n",
    "from skimage.color import rgb2lab, lab2rgb, rgb2gray\n",
    "from skimage.io import imsave\n",
    "from skimage.transform import resize\n",
    "from pprint import pprint\n",
    "from tqdm import tqdm, tqdm_notebook\n",
    "\n",
    "import time\n",
    "import PIL\n",
    "from PIL import Image\n",
    "from sklearn.manifold import TSNE\n",
    "from sklearn.decomposition import PCA\n",
    "from sklearn.neighbors import NearestNeighbors\n",
    "\n",
    "import matplotlib\n",
    "import matplotlib.image as mpimg\n",
    "\n",
    "import tensorflow\n",
    "import tensorflow as tf\n",
    "from tensorflow.keras.preprocessing.image import ImageDataGenerator\n",
    "from tensorflow.keras.applications import VGG16\n",
    "from tensorflow.keras import Model\n",
    "from tensorflow.keras.layers import Dense, Flatten, Dropout\n",
    "from tensorflow.keras.optimizers import Adam\n",
    "from tensorflow.python.keras.utils import data_utils\n",
    "from tensorflow.keras.preprocessing.image import Iterator\n",
    "from tensorflow.keras import Input\n",
    "from tensorflow.keras.layers import Conv2D, Conv2DTranspose, UpSampling2D, AveragePooling2D, MaxPooling2D, Reshape, Conv2DTranspose, ZeroPadding2D, Add\n",
    "from tensorflow.keras.layers import Activation, InputLayer, BatchNormalization\n",
    "from tensorflow.keras.callbacks import TensorBoard\n",
    "from tensorflow.keras.models import Sequential, load_model\n",
    "from tensorflow.keras.preprocessing.image import ImageDataGenerator, array_to_img, img_to_array, load_img\n",
    "from tensorflow.keras.layers import PReLU\n",
    "\n",
    "sys.path.append(\"/home/satyarth934/code/FDL_2020/training_scripts\")\n",
    "import utils\n",
    "\n",
    "# # Check to see if GPU is being used\n",
    "# print(tensorflow.test.gpu_device_name())\n",
    "# print(\"Num GPUs Available: \", tf.config.experimental.list_physical_devices('GPU'))\n",
    "# print(\"Num GPUs Available: \", len(tf.config.experimental.list_physical_devices('GPU')))"
   ]
  },
  {
   "cell_type": "code",
   "execution_count": 53,
   "metadata": {},
   "outputs": [],
   "source": [
    "MODEL_NAME = \"baseAE_hurricane_try3\"\n",
    "BASE_DIR = \"/home/satyarth934/code/FDL_2020/\"\n",
    "\n",
    "FEATURE_DIR = BASE_DIR + \"Features/\" + MODEL_NAME\n",
    "PATH_LIST = FEATURE_DIR + \"/filenames.pkl\"\n",
    "FEATURES_OUTPUT = FEATURE_DIR + \"/features.pkl\"\n",
    "P_AT_K_PLOT =  FEATURE_DIR + \"/windspeed_abs_error_plot_2_to_10.png\"\n",
    "\n",
    "# MODIS_DUST_GT_PATH = \"/home/satyarth934/data/modis_data_products/MODIS_Dust_Events_2010_2020_h16v7.pkl\"\n",
    "# DUST_GT = pickle.load(open(MODIS_DUST_GT_PATH, 'rb'))\n",
    "\n",
    "dims = (448,448,3)\n",
    "\n",
    "filenames = pickle.load(open(PATH_LIST,'rb'))\n",
    "feature_list = pickle.load(open(FEATURES_OUTPUT, 'rb'))"
   ]
  },
  {
   "cell_type": "code",
   "execution_count": 54,
   "metadata": {},
   "outputs": [
    {
     "name": "stdout",
     "output_type": "stream",
     "text": [
      "Number of images =  1069\n",
      "Number of features per image =  3920\n"
     ]
    }
   ],
   "source": [
    "num_images = len(filenames)\n",
    "num_features_per_image = len(feature_list[0])\n",
    "print(\"Number of images = \", num_images)\n",
    "print(\"Number of features per image = \", num_features_per_image)"
   ]
  },
  {
   "cell_type": "code",
   "execution_count": 55,
   "metadata": {},
   "outputs": [
    {
     "data": {
      "text/plain": [
       "1069"
      ]
     },
     "execution_count": 55,
     "metadata": {},
     "output_type": "execute_result"
    }
   ],
   "source": [
    "len(feature_list)"
   ]
  },
  {
   "cell_type": "code",
   "execution_count": 56,
   "metadata": {},
   "outputs": [],
   "source": [
    "def getWindSpeed(str):    \n",
    "    file_name = str.split(\"/\")[-1]\n",
    "    wind_speed = int(file_name.split(\".\")[0].split(\"_\")[-1].strip(\"kts\"))\n",
    "    return wind_speed\n",
    "\n",
    "\n",
    "# compute the absolute error in the windspeed of query image and the similar images\n",
    "def calculate_abserr_windspeed(feature_list, num_nearest_neighbors):\n",
    "    mae = []\n",
    "    neighbors = NearestNeighbors(n_neighbors=num_nearest_neighbors,\n",
    "                                 algorithm='brute',\n",
    "                                 metric='euclidean').fit(feature_list)\n",
    "    for i in tqdm_notebook(range(len(feature_list))):\n",
    "        distances, indices = neighbors.kneighbors([feature_list[i]])\n",
    "        for j in range(1, num_nearest_neighbors):\n",
    "            query_ws = getWindSpeed(filenames[i])\n",
    "            sim_ws = getWindSpeed(filenames[indices[0][j]])\n",
    "            abs_err = abs(query_ws - sim_ws)\n",
    "            \n",
    "            mae.append(abs_err)\n",
    "    \n",
    "    print(\"Mean AE for %d neighbors:\" % (num_nearest_neighbors), np.mean(mae))\n",
    "    print(\"Median AE for %d neighbors:\" % (num_nearest_neighbors), np.median(mae))\n",
    "    \n",
    "    return (np.mean(mae), np.median(mae))"
   ]
  },
  {
   "cell_type": "code",
   "execution_count": 57,
   "metadata": {},
   "outputs": [
    {
     "name": "stdout",
     "output_type": "stream",
     "text": [
      "2\n"
     ]
    },
    {
     "name": "stderr",
     "output_type": "stream",
     "text": [
      "/opt/conda/lib/python3.7/site-packages/ipykernel_launcher.py:13: TqdmDeprecationWarning: This function will be removed in tqdm==5.0.0\n",
      "Please use `tqdm.notebook.tqdm` instead of `tqdm.tqdm_notebook`\n",
      "  del sys.path[0]\n"
     ]
    },
    {
     "data": {
      "application/vnd.jupyter.widget-view+json": {
       "model_id": "5e112d7a129b4aab975bfbdcfced1637",
       "version_major": 2,
       "version_minor": 0
      },
      "text/plain": [
       "HBox(children=(FloatProgress(value=0.0, max=1069.0), HTML(value='')))"
      ]
     },
     "metadata": {},
     "output_type": "display_data"
    },
    {
     "name": "stdout",
     "output_type": "stream",
     "text": [
      "\n",
      "Mean AE for 2 neighbors: 4.396632366697848\n",
      "Median AE for 2 neighbors: 0.0\n",
      "3\n"
     ]
    },
    {
     "name": "stderr",
     "output_type": "stream",
     "text": [
      "/opt/conda/lib/python3.7/site-packages/ipykernel_launcher.py:13: TqdmDeprecationWarning: This function will be removed in tqdm==5.0.0\n",
      "Please use `tqdm.notebook.tqdm` instead of `tqdm.tqdm_notebook`\n",
      "  del sys.path[0]\n"
     ]
    },
    {
     "data": {
      "application/vnd.jupyter.widget-view+json": {
       "model_id": "383bfcd197ff43e8811af48cd4d7ef89",
       "version_major": 2,
       "version_minor": 0
      },
      "text/plain": [
       "HBox(children=(FloatProgress(value=0.0, max=1069.0), HTML(value='')))"
      ]
     },
     "metadata": {},
     "output_type": "display_data"
    },
    {
     "name": "stdout",
     "output_type": "stream",
     "text": [
      "\n",
      "Mean AE for 3 neighbors: 6.414873713751169\n",
      "Median AE for 3 neighbors: 0.0\n",
      "4\n"
     ]
    },
    {
     "name": "stderr",
     "output_type": "stream",
     "text": [
      "/opt/conda/lib/python3.7/site-packages/ipykernel_launcher.py:13: TqdmDeprecationWarning: This function will be removed in tqdm==5.0.0\n",
      "Please use `tqdm.notebook.tqdm` instead of `tqdm.tqdm_notebook`\n",
      "  del sys.path[0]\n"
     ]
    },
    {
     "data": {
      "application/vnd.jupyter.widget-view+json": {
       "model_id": "2a83b8a90daf4ca8b09481d6ffff9f01",
       "version_major": 2,
       "version_minor": 0
      },
      "text/plain": [
       "HBox(children=(FloatProgress(value=0.0, max=1069.0), HTML(value='')))"
      ]
     },
     "metadata": {},
     "output_type": "display_data"
    },
    {
     "name": "stdout",
     "output_type": "stream",
     "text": [
      "\n",
      "Mean AE for 4 neighbors: 7.949797318366074\n",
      "Median AE for 4 neighbors: 5.0\n"
     ]
    }
   ],
   "source": [
    "# Select the number of neighbors to check for accuracy measurement\n",
    "num_neighbor_check = [2,3,4]\n",
    "# num_neighbor_check = [2,3,4,5,10,20,30,40,50]\n",
    "# num_neighbor_check = [2, 3, 4, 5, 6, 7, 8, 9, 10, 11, 12, 13, 14, 15, 16, 17, 18, 19, 20, 25, 30, 35, 40, 45, 50]\n",
    "# num_neighbor_check = [2, 3, 4, 5, 6, 7, 8, 9, 10]\n",
    "\n",
    "ws_mean_ae = []\n",
    "ws_median_ae = []\n",
    "errs_gt_median = []\n",
    "for num_neighbor in num_neighbor_check:\n",
    "    print(num_neighbor)\n",
    "    ws_mean_e, ws_median_e = calculate_abserr_windspeed(feature_list, num_neighbor)\n",
    "    ws_mean_ae.append(ws_mean_e)\n",
    "    ws_median_ae.append(ws_median_e)\n"
   ]
  },
  {
   "cell_type": "code",
   "execution_count": 58,
   "metadata": {},
   "outputs": [
    {
     "data": {
      "text/plain": [
       "<matplotlib.legend.Legend at 0x7fb2b47eaad0>"
      ]
     },
     "execution_count": 58,
     "metadata": {},
     "output_type": "execute_result"
    },
    {
     "data": {
      "image/png": "[encoded data removed]",
      "text/plain": [
       "<Figure size 720x432 with 1 Axes>"
      ]
     },
     "metadata": {
      "needs_background": "light"
     },
     "output_type": "display_data"
    }
   ],
   "source": [
    "# Individual classes + Combined All classes\n",
    "plt.figure(figsize=(10,6))\n",
    "plt.suptitle(MODEL_NAME)\n",
    "# plt.xticks(np.arange(2, 51, 2))\n",
    "plt.xlabel('Number of Neighbors', fontweight='bold')\n",
    "plt.ylabel('Absolute Error', fontweight='bold')\n",
    "plt.title('AE in WindSpeed', fontweight='bold')\n",
    "\n",
    "plt.scatter(num_neighbor_check, ws_mean_ae, marker='D')\n",
    "plt.plot(num_neighbor_check, ws_mean_ae)\n",
    "\n",
    "plt.scatter(num_neighbor_check, ws_median_ae, marker='D')\n",
    "plt.plot(num_neighbor_check, ws_median_ae)\n",
    "\n",
    "plt.legend(labels=[\"mean\", \"median\"], loc='upper left')\n",
    "\n",
    "# plt.savefig(P_AT_K_PLOT)\n",
    "# plt.savefig(P_AT_K_PLOT.replace(\".png\", \".eps\"))"
   ]
  },
  {
   "cell_type": "code",
   "execution_count": null,
   "metadata": {},
   "outputs": [],
   "source": []
  }
 ],
 "metadata": {
  "accelerator": "GPU",
  "colab": {
   "collapsed_sections": [],
   "name": "SelfSup-(Autoencoder, UCMERCED).ipynb",
   "provenance": []
  },
  "kernelspec": {
   "display_name": "Python 3",
   "language": "python",
   "name": "python3"
  },
  "language_info": {
   "codemirror_mode": {
    "name": "ipython",
    "version": 3
   },
   "file_extension": ".py",
   "mimetype": "text/x-python",
   "name": "python",
   "nbconvert_exporter": "python",
   "pygments_lexer": "ipython3",
   "version": "3.7.6"
  },
  "latex_envs": {
   "LaTeX_envs_menu_present": true,
   "autoclose": true,
   "autocomplete": true,
   "bibliofile": "biblio.bib",
   "cite_by": "apalike",
   "current_citInitial": 1,
   "eqLabelWithNumbers": true,
   "eqNumInitial": 1,
   "hotkeys": {
    "equation": "Ctrl-E",
    "itemize": "Ctrl-I"
   },
   "labels_anchors": false,
   "latex_user_defs": false,
   "report_style_numbering": false,
   "user_envs_cfg": false
  },
  "toc": {
   "base_numbering": 1,
   "nav_menu": {},
   "number_sections": true,
   "sideBar": false,
   "skip_h1_title": false,
   "title_cell": "Table of Contents",
   "title_sidebar": "Contents",
   "toc_cell": true,
   "toc_position": {},
   "toc_section_display": true,
   "toc_window_display": false
  },
  "varInspector": {
   "cols": {
    "lenName": 16,
    "lenType": 16,
    "lenVar": 40
   },
   "kernels_config": {
    "python": {
     "delete_cmd_postfix": "",
     "delete_cmd_prefix": "del ",
     "library": "var_list.py",
     "varRefreshCmd": "print(var_dic_list())"
    },
    "r": {
     "delete_cmd_postfix": ") ",
     "delete_cmd_prefix": "rm(",
     "library": "var_list.r",
     "varRefreshCmd": "cat(var_dic_list()) "
    }
   },
   "types_to_exclude": [
    "module",
    "function",
    "builtin_function_or_method",
    "instance",
    "_Feature"
   ],
   "window_display": false
  }
 },
 "nbformat": 4,
 "nbformat_minor": 4
}
