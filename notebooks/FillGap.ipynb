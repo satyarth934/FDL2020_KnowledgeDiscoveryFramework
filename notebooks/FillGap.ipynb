{
 "cells": [
  {
   "cell_type": "markdown",
   "metadata": {
    "nbpresent": {
     "id": "211e6c7d-d258-4e31-8216-ac33886a0f23"
    },
    "toc": true
   },
   "source": [
    "<h1>Table of Contents<span class=\"tocSkip\"></span></h1>\n",
    "<div class=\"toc\"><ul class=\"toc-item\"><li><span><a href=\"#Imports\" data-toc-modified-id=\"Imports-1\"><span class=\"toc-item-num\">1&nbsp;&nbsp;</span>Imports</a></span></li><li><span><a href=\"#Data-Augmentation/Analysis\" data-toc-modified-id=\"Data-Augmentation/Analysis-2\"><span class=\"toc-item-num\">2&nbsp;&nbsp;</span>Data Augmentation/Analysis</a></span></li><li><span><a href=\"#Dataloader-creation-and-test\" data-toc-modified-id=\"Dataloader-creation-and-test-3\"><span class=\"toc-item-num\">3&nbsp;&nbsp;</span>Dataloader creation and test</a></span></li><li><span><a href=\"#Model-creation\" data-toc-modified-id=\"Model-creation-4\"><span class=\"toc-item-num\">4&nbsp;&nbsp;</span>Model creation</a></span></li><li><span><a href=\"#Model-Training\" data-toc-modified-id=\"Model-Training-5\"><span class=\"toc-item-num\">5&nbsp;&nbsp;</span>Model Training</a></span><ul class=\"toc-item\"><li><span><a href=\"#Model-Testing\" data-toc-modified-id=\"Model-Testing-5.1\"><span class=\"toc-item-num\">5.1&nbsp;&nbsp;</span>Model Testing</a></span></li></ul></li></ul></div>"
   ]
  },
  {
   "cell_type": "markdown",
   "metadata": {
    "colab_type": "text",
    "id": "561rrpfX_VaY",
    "nbpresent": {
     "id": "8902066f-f256-4e6f-8533-16bcb4553d9a"
    }
   },
   "source": [
    "**GET DATA**\n",
    "\n",
    "Summary of this notebook: ...\n",
    "\n",
    "Definition of Done: ..."
   ]
  },
  {
   "cell_type": "markdown",
   "metadata": {
    "colab_type": "text",
    "id": "6Ev8fWuVejb0",
    "nbpresent": {
     "id": "72814092-eab4-4440-910f-bb7b555411ee"
    }
   },
   "source": [
    "# Imports\n"
   ]
  },
  {
   "cell_type": "code",
   "execution_count": 1,
   "metadata": {
    "colab": {
     "base_uri": "https://localhost:8080/",
     "height": 35
    },
    "colab_type": "code",
    "id": "TKfFt17nGyDm",
    "nbpresent": {
     "id": "da6aef7a-c579-4384-9373-2cb20ffe43c8"
    },
    "outputId": "5f14dba2-bda1-40e5-c791-d45c75971997"
   },
   "outputs": [
    {
     "name": "stdout",
     "output_type": "stream",
     "text": [
      "/device:GPU:0\n",
      "Num GPUs Available:  [PhysicalDevice(name='/physical_device:GPU:0', device_type='GPU'), PhysicalDevice(name='/physical_device:GPU:1', device_type='GPU')]\n",
      "Num GPUs Available:  2\n"
     ]
    }
   ],
   "source": [
    "import os\n",
    "from os import path\n",
    "import sys\n",
    "import math\n",
    "import cv2 # Read raw image\n",
    "import glob\n",
    "import random\n",
    "import numpy as np\n",
    "import pickle\n",
    "from matplotlib import pyplot as plt\n",
    "from scipy import ndimage # For rotation task or\n",
    "import imutils\n",
    "from skimage.color import rgb2lab, lab2rgb, rgb2gray\n",
    "from skimage.io import imsave\n",
    "from skimage.transform import resize\n",
    "from pprint import pprint\n",
    "import tqdm\n",
    "\n",
    "import tensorflow\n",
    "import tensorflow as tf\n",
    "from tensorflow.keras.preprocessing.image import ImageDataGenerator\n",
    "from tensorflow.keras.applications import VGG16\n",
    "from tensorflow.keras import Model\n",
    "from tensorflow.keras.layers import Dense, Flatten, Dropout\n",
    "from tensorflow.keras.optimizers import Adam\n",
    "from tensorflow.python.keras.utils import data_utils\n",
    "from tensorflow.keras.preprocessing.image import Iterator\n",
    "from tensorflow.keras import Input\n",
    "from tensorflow.keras.layers import Conv2D, Conv2DTranspose, UpSampling2D, AveragePooling2D, MaxPooling2D, Reshape, Conv2DTranspose, ZeroPadding2D, Add\n",
    "from tensorflow.keras.layers import Activation, InputLayer, BatchNormalization\n",
    "from tensorflow.keras.callbacks import TensorBoard\n",
    "from tensorflow.keras.models import Sequential, load_model\n",
    "from tensorflow.keras.preprocessing.image import ImageDataGenerator, array_to_img, img_to_array, load_img\n",
    "from tensorflow.keras.layers import PReLU\n",
    "\n",
    "sys.path.append(\"/home/satyarth934/code/FDL_2020/training_scripts\")\n",
    "import utils\n",
    "\n",
    "# Check to see if GPU is being used\n",
    "print(tensorflow.test.gpu_device_name())\n",
    "print(\"Num GPUs Available: \", tf.config.experimental.list_physical_devices('GPU'))\n",
    "print(\"Num GPUs Available: \", len(tf.config.experimental.list_physical_devices('GPU')))"
   ]
  },
  {
   "cell_type": "code",
   "execution_count": 2,
   "metadata": {},
   "outputs": [
    {
     "name": "stdout",
     "output_type": "stream",
     "text": [
      "146\n"
     ]
    }
   ],
   "source": [
    "DATA_PATH = \"/home/satyarth934/data/modis_data_products/*/array_3bands_normalized/448/*\"\n",
    "\n",
    "img_paths = glob.glob(DATA_PATH)\n",
    "train_test_split = 0.8\n",
    "X_test_paths = img_paths[int(train_test_split * len(img_paths)):]\n",
    "print(len(X_test_paths))\n",
    "\n",
    "dims = (448, 448, 3)\n",
    "\n",
    "# Loading Data\n",
    "X_test = utils.getData(X_test_paths, dims)\n",
    "X_test = utils.normalize(X_test)"
   ]
  },
  {
   "cell_type": "code",
   "execution_count": 3,
   "metadata": {},
   "outputs": [],
   "source": [
    "# nan_val = utils.nansInData(X_test)\n",
    "# plt.scatter(np.arange(1,len(nan_val)+1), nan_val)\n",
    "\n",
    "# print(\"Usable:\", len([v for v in nan_val if v<20000]))\n",
    "\n",
    "# print(\"Mahashay:\", [(i, v) for i, v in enumerate(nan_val) if v>500000])"
   ]
  },
  {
   "cell_type": "code",
   "execution_count": null,
   "metadata": {},
   "outputs": [],
   "source": [
    "# 45 pixels: radius of the locality\n",
    "# plt.imshow(X_test[10])\n",
    "# plt.show()\n",
    "\n",
    "import random\n",
    "from multiprocessing import Pool\n",
    "\n",
    "\n",
    "def getClosest(pt, options):\n",
    "    x,y = pt\n",
    "    min_val = -9999\n",
    "    min_pt = options[0]\n",
    "    for o in options:\n",
    "        sse = np.sum(np.square(np.array(pt) - np.array(o)))\n",
    "        if sse < min_val:\n",
    "            min_val = se\n",
    "            min_pt = o\n",
    "    \n",
    "    return min_pt\n",
    "\n",
    "\n",
    "N = 2\n",
    "radius = 100\n",
    "\n",
    "# local region\n",
    "(x,y,z) = np.where(np.isnan(X_test[10]))\n",
    "\n",
    "# nan value indices\n",
    "nan_idxs = [_ for _ in zip(x,y)]\n",
    "nan_idxs = list(set(nan_idxs))\n",
    "\n",
    "attempts = 0\n",
    "\n",
    "clone = np.copy(X_test[10])\n",
    "\n",
    "for i, item in enumerate(tqdm.tqdm_notebook(nan_idxs)):\n",
    "    x,y = item\n",
    "    # region\n",
    "    xtl, xtr = max(0, x - radius), min(X_test[10].shape[1], x + radius)\n",
    "    ytl, ytr = max(0, y - radius), min(X_test[10].shape[1], y + radius)\n",
    "    \n",
    "    random_idxs = []\n",
    "    counter = 0\n",
    "    att2 = 0\n",
    "    flag = 0\n",
    "    while counter < N:\n",
    "        if att2 > N * 10:\n",
    "            flag = 1\n",
    "            break\n",
    "        att2 += 1\n",
    "        \n",
    "        attempts += 1\n",
    "        random_idx = np.random.randint(xtl, xtr), np.random.randint(ytl, ytr)\n",
    "#         random_idx = (1,2)\n",
    "        if np.sum(np.isnan(X_test[10][random_idx[0], random_idx[1],:])) > 0:\n",
    "            continue\n",
    "        random_idxs.append(random_idx)\n",
    "        counter += 1\n",
    "    \n",
    "    if i%1000 == 0:\n",
    "        print(\"attempts:\", attempts / ((i+1) * N))\n",
    "    \n",
    "    if(flag==1):\n",
    "        continue\n",
    "\n",
    "#     closest_x, closest_y = random_idx\n",
    "#     print(\"===>>\", *zip(random_idx[0], random_idx[1]))\n",
    "    closest_x, closest_y = getClosest((x,y), random_idxs)\n",
    "#     print(x_rand)\n",
    "#     print(y_rand)\n",
    "#     print(closest_x, closest_y)\n",
    "#     print(\"------\")\n",
    "    clone[x,y,:] = X_test[10][closest_x,closest_y,:]\n",
    "\n",
    "plt.imshow(clone)\n",
    "# plt.savefig(\"n%drad%dA3.png\" % (N, radius))\n",
    "plt.show()"
   ]
  },
  {
   "cell_type": "code",
   "execution_count": null,
   "metadata": {},
   "outputs": [],
   "source": [
    "img1 = plt.imread('n3rad45.png')\n",
    "img2 = plt.imread('n1rad45.png')\n",
    "\n",
    "print(np.sum(img1 - img2))"
   ]
  }
 ],
 "metadata": {
  "accelerator": "GPU",
  "colab": {
   "collapsed_sections": [],
   "name": "SelfSup-(Autoencoder, UCMERCED).ipynb",
   "provenance": []
  },
  "kernelspec": {
   "display_name": "Python 3",
   "language": "python",
   "name": "python3"
  },
  "language_info": {
   "codemirror_mode": {
    "name": "ipython",
    "version": 3
   },
   "file_extension": ".py",
   "mimetype": "text/x-python",
   "name": "python",
   "nbconvert_exporter": "python",
   "pygments_lexer": "ipython3",
   "version": "3.7.6"
  },
  "latex_envs": {
   "LaTeX_envs_menu_present": true,
   "autoclose": true,
   "autocomplete": true,
   "bibliofile": "biblio.bib",
   "cite_by": "apalike",
   "current_citInitial": 1,
   "eqLabelWithNumbers": true,
   "eqNumInitial": 1,
   "hotkeys": {
    "equation": "Ctrl-E",
    "itemize": "Ctrl-I"
   },
   "labels_anchors": false,
   "latex_user_defs": false,
   "report_style_numbering": false,
   "user_envs_cfg": false
  },
  "toc": {
   "base_numbering": 1,
   "nav_menu": {},
   "number_sections": true,
   "sideBar": false,
   "skip_h1_title": false,
   "title_cell": "Table of Contents",
   "title_sidebar": "Contents",
   "toc_cell": true,
   "toc_position": {},
   "toc_section_display": true,
   "toc_window_display": false
  },
  "varInspector": {
   "cols": {
    "lenName": 16,
    "lenType": 16,
    "lenVar": 40
   },
   "kernels_config": {
    "python": {
     "delete_cmd_postfix": "",
     "delete_cmd_prefix": "del ",
     "library": "var_list.py",
     "varRefreshCmd": "print(var_dic_list())"
    },
    "r": {
     "delete_cmd_postfix": ") ",
     "delete_cmd_prefix": "rm(",
     "library": "var_list.r",
     "varRefreshCmd": "cat(var_dic_list()) "
    }
   },
   "types_to_exclude": [
    "module",
    "function",
    "builtin_function_or_method",
    "instance",
    "_Feature"
   ],
   "window_display": false
  }
 },
 "nbformat": 4,
 "nbformat_minor": 4
}
