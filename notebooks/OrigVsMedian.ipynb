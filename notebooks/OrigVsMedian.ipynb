{
 "cells": [
  {
   "cell_type": "markdown",
   "metadata": {
    "nbpresent": {
     "id": "211e6c7d-d258-4e31-8216-ac33886a0f23"
    },
    "toc": true
   },
   "source": [
    "<h1>Table of Contents<span class=\"tocSkip\"></span></h1>\n",
    "<div class=\"toc\"><ul class=\"toc-item\"><li><span><a href=\"#Imports\" data-toc-modified-id=\"Imports-1\"><span class=\"toc-item-num\">1&nbsp;&nbsp;</span>Imports</a></span></li><li><span><a href=\"#Data-Augmentation/Analysis\" data-toc-modified-id=\"Data-Augmentation/Analysis-2\"><span class=\"toc-item-num\">2&nbsp;&nbsp;</span>Data Augmentation/Analysis</a></span></li><li><span><a href=\"#Dataloader-creation-and-test\" data-toc-modified-id=\"Dataloader-creation-and-test-3\"><span class=\"toc-item-num\">3&nbsp;&nbsp;</span>Dataloader creation and test</a></span></li><li><span><a href=\"#Model-creation\" data-toc-modified-id=\"Model-creation-4\"><span class=\"toc-item-num\">4&nbsp;&nbsp;</span>Model creation</a></span></li><li><span><a href=\"#Model-Training\" data-toc-modified-id=\"Model-Training-5\"><span class=\"toc-item-num\">5&nbsp;&nbsp;</span>Model Training</a></span><ul class=\"toc-item\"><li><span><a href=\"#Model-Testing\" data-toc-modified-id=\"Model-Testing-5.1\"><span class=\"toc-item-num\">5.1&nbsp;&nbsp;</span>Model Testing</a></span></li></ul></li></ul></div>"
   ]
  },
  {
   "cell_type": "markdown",
   "metadata": {
    "colab_type": "text",
    "id": "561rrpfX_VaY",
    "nbpresent": {
     "id": "8902066f-f256-4e6f-8533-16bcb4553d9a"
    }
   },
   "source": [
    "**GET DATA**\n",
    "\n",
    "Summary of this notebook: ...\n",
    "\n",
    "Definition of Done: ..."
   ]
  },
  {
   "cell_type": "markdown",
   "metadata": {
    "colab_type": "text",
    "id": "6Ev8fWuVejb0",
    "nbpresent": {
     "id": "72814092-eab4-4440-910f-bb7b555411ee"
    }
   },
   "source": [
    "# Imports\n"
   ]
  },
  {
   "cell_type": "code",
   "execution_count": 1,
   "metadata": {
    "colab": {
     "base_uri": "https://localhost:8080/",
     "height": 35
    },
    "colab_type": "code",
    "id": "TKfFt17nGyDm",
    "nbpresent": {
     "id": "da6aef7a-c579-4384-9373-2cb20ffe43c8"
    },
    "outputId": "5f14dba2-bda1-40e5-c791-d45c75971997"
   },
   "outputs": [
    {
     "name": "stdout",
     "output_type": "stream",
     "text": [
      "/device:GPU:0\n",
      "Num GPUs Available:  [PhysicalDevice(name='/physical_device:GPU:0', device_type='GPU'), PhysicalDevice(name='/physical_device:GPU:1', device_type='GPU')]\n",
      "Num GPUs Available:  2\n"
     ]
    }
   ],
   "source": [
    "import os\n",
    "from os import path\n",
    "import sys\n",
    "import math\n",
    "import cv2 # Read raw image\n",
    "import glob\n",
    "import random\n",
    "import numpy as np\n",
    "import pickle\n",
    "from matplotlib import pyplot as plt\n",
    "from scipy import ndimage # For rotation task or\n",
    "import imutils\n",
    "from skimage.color import rgb2lab, lab2rgb, rgb2gray\n",
    "from skimage.io import imsave\n",
    "from skimage.transform import resize\n",
    "from pprint import pprint\n",
    "import tqdm\n",
    "\n",
    "import tensorflow\n",
    "import tensorflow as tf\n",
    "from tensorflow.keras.preprocessing.image import ImageDataGenerator\n",
    "from tensorflow.keras.applications import VGG16\n",
    "from tensorflow.keras import Model\n",
    "from tensorflow.keras.layers import Dense, Flatten, Dropout\n",
    "from tensorflow.keras.optimizers import Adam\n",
    "from tensorflow.python.keras.utils import data_utils\n",
    "from tensorflow.keras.preprocessing.image import Iterator\n",
    "from tensorflow.keras import Input\n",
    "from tensorflow.keras.layers import Conv2D, Conv2DTranspose, UpSampling2D, AveragePooling2D, MaxPooling2D, Reshape, Conv2DTranspose, ZeroPadding2D, Add\n",
    "from tensorflow.keras.layers import Activation, InputLayer, BatchNormalization\n",
    "from tensorflow.keras.callbacks import TensorBoard\n",
    "from tensorflow.keras.models import Sequential, load_model\n",
    "from tensorflow.keras.preprocessing.image import ImageDataGenerator, array_to_img, img_to_array, load_img\n",
    "from tensorflow.keras.layers import PReLU\n",
    "\n",
    "sys.path.append(\"/home/satyarth934/code/FDL_2020/training_scripts\")\n",
    "import utils\n",
    "\n",
    "# Check to see if GPU is being used\n",
    "print(tensorflow.test.gpu_device_name())\n",
    "print(\"Num GPUs Available: \", tf.config.experimental.list_physical_devices('GPU'))\n",
    "print(\"Num GPUs Available: \", len(tf.config.experimental.list_physical_devices('GPU')))"
   ]
  },
  {
   "cell_type": "markdown",
   "metadata": {
    "colab_type": "text",
    "id": "FNBiKT_Qe0xr",
    "nbpresent": {
     "id": "aab28143-4b01-421e-8433-93df5d6a360b"
    }
   },
   "source": [
    "# Dataloader creation and test"
   ]
  },
  {
   "cell_type": "code",
   "execution_count": null,
   "metadata": {},
   "outputs": [],
   "source": [
    "# NEW MODIS DATASET\n",
    "\n",
    "# img_paths = glob.glob(\"/home/satyarth934/data/modis_data_products/*/array_3bands_normalized/448/*\")\n",
    "# img_paths = glob.glob(\"/home/satyarth934/data/modis_data_products/terra/array_3bands_adapted/448/mean_stdev_removed/*\") # <- needs to be normalized\n",
    "img_paths = glob.glob(\"/home/satyarth934/data/modis_data_products/terra/array_3bands_adapted/448/median_removed/*\") # <- needs to be normalized\n",
    "img_paths = sorted(img_paths)\n",
    "print(\"len(img_paths):\", len(img_paths))\n",
    "# random.shuffle(img_paths)\n",
    "\n",
    "train_test_split = 0.8\n",
    "X_train_paths = img_paths[:int(train_test_split*len(img_paths))]\n",
    "X_test_paths = img_paths[int(train_test_split*len(img_paths)):]\n",
    "\n",
    "dims=(448,448,3)\n",
    "\n",
    "# Loading Training Data\n",
    "X_train = np.empty((len(X_train_paths),*dims))\n",
    "for i, p in enumerate(X_train_paths):\n",
    "    X_train[i,:,:,:] = np.load(p)\n",
    "\n",
    "# Loading Testing Data\n",
    "X_test = np.empty((len(X_test_paths),*dims))\n",
    "for i, p in enumerate(X_test_paths):\n",
    "    X_test[i,:,:,:] = np.load(p)\n",
    "\n",
    "print(\"X_train:\", X_train.shape)\n",
    "print(\"X_test:\", X_test.shape)\n",
    "\n",
    "# To check what percentage of pixels are 'nan'\n",
    "print(np.sum(np.isnan(X_train)) / np.prod(X_train.shape))\n",
    "print(np.sum(np.isnan(X_test)) / np.prod(X_test.shape))\n",
    "\n",
    "# Checking min max to see if normalization is needed or not\n",
    "print(\"Before normalization\")\n",
    "print(np.nanmin(X_train), np.nanmax(X_train))\n",
    "print(np.nanmin(X_test), np.nanmax(X_test))\n",
    "\n",
    "# Normalize Inputs\n",
    "def normalize(mat):\n",
    "    valid_cells = np.invert(np.isnan(mat))\n",
    "    normalized = np.subtract(mat, np.nanmin(mat), where=valid_cells) / (np.nanmax(mat) - np.nanmin(mat))\n",
    "    return normalized\n",
    "\n",
    "X_train = normalize(X_train)\n",
    "X_test = normalize(X_test)\n",
    "\n",
    "# Checking min max after normalization \n",
    "print(\"After normalization\")\n",
    "print(np.nanmin(X_train), np.nanmax(X_train))\n",
    "print(np.nanmin(X_test), np.nanmax(X_test))\n",
    "\n",
    "# Set nan values to 0\n",
    "# X_train[np.isnan(X_train)] = 0.0\n",
    "# X_test[np.isnan(X_test)] = 0.0"
   ]
  },
  {
   "cell_type": "code",
   "execution_count": null,
   "metadata": {},
   "outputs": [],
   "source": [
    "# NEW MODIS DATASET\n",
    "\n",
    "img_paths_orig = glob.glob(\"/home/satyarth934/data/modis_data_products/terra/array_3bands_normalized/448/*\")\n",
    "img_paths_orig = sorted(img_paths_orig)\n",
    "# img_paths_orig = glob.glob(\"/home/satyarth934/data/modis_data_products/terra/array_3bands_adapted/448/mean_stdev_removed/*\") # <- needs to be normalized\n",
    "# img_paths_orig = glob.glob(\"/home/satyarth934/data/modis_data_products/terra/array_3bands_adapted/448/median_removed/*\") # <- needs to be normalized\n",
    "print(\"len(img_paths_orig):\", len(img_paths_orig))\n",
    "# random.shuffle(img_paths_orig)\n",
    "\n",
    "train_test_split = 0.8\n",
    "X_train_paths_orig = img_paths_orig[:int(train_test_split*len(img_paths_orig))]\n",
    "X_test_paths_orig = img_paths_orig[int(train_test_split*len(img_paths_orig)):]\n",
    "\n",
    "# np.save(PATH_LIST_LOCATION, [X_train_paths_orig, X_test_paths_orig])\n",
    "\n",
    "dims=(448,448,3)\n",
    "\n",
    "# Loading Training Data\n",
    "X_train_orig = np.empty((len(X_train_paths_orig),*dims))\n",
    "for i, p in enumerate(X_train_paths_orig):\n",
    "    X_train_orig[i,:,:,:] = np.load(p)\n",
    "\n",
    "# Loading Testing Data\n",
    "X_test_orig = np.empty((len(X_test_paths_orig),*dims))\n",
    "for i, p in enumerate(X_test_paths_orig):\n",
    "    X_test_orig[i,:,:,:] = np.load(p)\n",
    "\n",
    "print(\"X_train_orig:\", X_train_orig.shape)\n",
    "print(\"X_test_orig:\", X_test_orig.shape)\n",
    "\n",
    "# To check what percentage of pixels are 'nan'\n",
    "print(np.sum(np.isnan(X_train_orig)) / np.prod(X_train_orig.shape))\n",
    "print(np.sum(np.isnan(X_test_orig)) / np.prod(X_test.shape))\n",
    "\n",
    "# Checking min max to see if normalization is needed or not\n",
    "print(\"Before normalization\")\n",
    "print(np.nanmin(X_train_orig), np.nanmax(X_train_orig))\n",
    "print(np.nanmin(X_test_orig), np.nanmax(X_test_orig))\n",
    "\n",
    "# Normalize Inputs\n",
    "def normalize(mat):\n",
    "    valid_cells = np.invert(np.isnan(mat))\n",
    "    normalized = np.subtract(mat, np.nanmin(mat), where=valid_cells) / (np.nanmax(mat) - np.nanmin(mat))\n",
    "    return normalized\n",
    "\n",
    "X_train_orig = normalize(X_train_orig)\n",
    "X_test_orig = normalize(X_test_orig)\n",
    "\n",
    "# Checking min max after normalization \n",
    "print(\"After normalization\")\n",
    "print(np.nanmin(X_train_orig), np.nanmax(X_train_orig))\n",
    "print(np.nanmin(X_test_orig), np.nanmax(X_test_orig))\n",
    "\n",
    "# Set nan values to 0\n",
    "# X_train[np.isnan(X_train)] = 0.0\n",
    "# X_test[np.isnan(X_test)] = 0.0"
   ]
  },
  {
   "cell_type": "code",
   "execution_count": null,
   "metadata": {},
   "outputs": [],
   "source": [
    "nan_idxsprint(X_train.shape)\n",
    "print(X_train_orig.shape)\n",
    "r = 10\n",
    "c = 2\n",
    "fig, axs = plt.subplots(nrows=r, ncols=c, figsize=(20,60))\n",
    "for i in range(r):\n",
    "    axs[i, 0].imshow(X_train_orig[10+i,:,:,:])\n",
    "    axs[i, 1].imshow(X_train[10+i,:,:,:])\n",
    "\n",
    "fig.savefig(\"orig_vs_median.png\")"
   ]
  }
 ],
 "metadata": {
  "accelerator": "GPU",
  "colab": {
   "collapsed_sections": [],
   "name": "SelfSup-(Autoencoder, UCMERCED).ipynb",
   "provenance": []
  },
  "kernelspec": {
   "display_name": "Python 3",
   "language": "python",
   "name": "python3"
  },
  "language_info": {
   "codemirror_mode": {
    "name": "ipython",
    "version": 3
   },
   "file_extension": ".py",
   "mimetype": "text/x-python",
   "name": "python",
   "nbconvert_exporter": "python",
   "pygments_lexer": "ipython3",
   "version": "3.7.6"
  },
  "latex_envs": {
   "LaTeX_envs_menu_present": true,
   "autoclose": true,
   "autocomplete": true,
   "bibliofile": "biblio.bib",
   "cite_by": "apalike",
   "current_citInitial": 1,
   "eqLabelWithNumbers": true,
   "eqNumInitial": 1,
   "hotkeys": {
    "equation": "Ctrl-E",
    "itemize": "Ctrl-I"
   },
   "labels_anchors": false,
   "latex_user_defs": false,
   "report_style_numbering": false,
   "user_envs_cfg": false
  },
  "toc": {
   "base_numbering": 1,
   "nav_menu": {},
   "number_sections": true,
   "sideBar": false,
   "skip_h1_title": false,
   "title_cell": "Table of Contents",
   "title_sidebar": "Contents",
   "toc_cell": true,
   "toc_position": {},
   "toc_section_display": true,
   "toc_window_display": false
  },
  "varInspector": {
   "cols": {
    "lenName": 16,
    "lenType": 16,
    "lenVar": 40
   },
   "kernels_config": {
    "python": {
     "delete_cmd_postfix": "",
     "delete_cmd_prefix": "del ",
     "library": "var_list.py",
     "varRefreshCmd": "print(var_dic_list())"
    },
    "r": {
     "delete_cmd_postfix": ") ",
     "delete_cmd_prefix": "rm(",
     "library": "var_list.r",
     "varRefreshCmd": "cat(var_dic_list()) "
    }
   },
   "types_to_exclude": [
    "module",
    "function",
    "builtin_function_or_method",
    "instance",
    "_Feature"
   ],
   "window_display": false
  }
 },
 "nbformat": 4,
 "nbformat_minor": 4
}
