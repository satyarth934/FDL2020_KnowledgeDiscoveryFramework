{
 "cells": [
  {
   "cell_type": "markdown",
   "metadata": {
    "nbpresent": {
     "id": "211e6c7d-d258-4e31-8216-ac33886a0f23"
    },
    "toc": true
   },
   "source": [
    "<h1>Table of Contents<span class=\"tocSkip\"></span></h1>\n",
    "<div class=\"toc\"><ul class=\"toc-item\"><li><span><a href=\"#Imports\" data-toc-modified-id=\"Imports-1\"><span class=\"toc-item-num\">1&nbsp;&nbsp;</span>Imports</a></span></li><li><span><a href=\"#Data-Augmentation/Analysis\" data-toc-modified-id=\"Data-Augmentation/Analysis-2\"><span class=\"toc-item-num\">2&nbsp;&nbsp;</span>Data Augmentation/Analysis</a></span></li><li><span><a href=\"#Dataloader-creation-and-test\" data-toc-modified-id=\"Dataloader-creation-and-test-3\"><span class=\"toc-item-num\">3&nbsp;&nbsp;</span>Dataloader creation and test</a></span></li><li><span><a href=\"#Model-creation\" data-toc-modified-id=\"Model-creation-4\"><span class=\"toc-item-num\">4&nbsp;&nbsp;</span>Model creation</a></span></li><li><span><a href=\"#Model-Training\" data-toc-modified-id=\"Model-Training-5\"><span class=\"toc-item-num\">5&nbsp;&nbsp;</span>Model Training</a></span><ul class=\"toc-item\"><li><span><a href=\"#Model-Testing\" data-toc-modified-id=\"Model-Testing-5.1\"><span class=\"toc-item-num\">5.1&nbsp;&nbsp;</span>Model Testing</a></span></li></ul></li></ul></div>"
   ]
  },
  {
   "cell_type": "markdown",
   "metadata": {
    "colab_type": "text",
    "id": "561rrpfX_VaY",
    "nbpresent": {
     "id": "8902066f-f256-4e6f-8533-16bcb4553d9a"
    }
   },
   "source": [
    "**GET DATA**\n",
    "\n",
    "Summary of this notebook: ...\n",
    "\n",
    "Definition of Done: ..."
   ]
  },
  {
   "cell_type": "markdown",
   "metadata": {
    "colab_type": "text",
    "id": "6Ev8fWuVejb0",
    "nbpresent": {
     "id": "72814092-eab4-4440-910f-bb7b555411ee"
    }
   },
   "source": [
    "# Imports\n"
   ]
  },
  {
   "cell_type": "code",
   "execution_count": 2,
   "metadata": {
    "colab": {
     "base_uri": "https://localhost:8080/",
     "height": 35
    },
    "colab_type": "code",
    "id": "TKfFt17nGyDm",
    "nbpresent": {
     "id": "da6aef7a-c579-4384-9373-2cb20ffe43c8"
    },
    "outputId": "5f14dba2-bda1-40e5-c791-d45c75971997"
   },
   "outputs": [
    {
     "name": "stdout",
     "output_type": "stream",
     "text": [
      "/device:GPU:0\n",
      "Num GPUs Available:  [PhysicalDevice(name='/physical_device:GPU:0', device_type='GPU'), PhysicalDevice(name='/physical_device:GPU:1', device_type='GPU')]\n",
      "Num GPUs Available:  2\n"
     ]
    }
   ],
   "source": [
    "import os\n",
    "from os import path\n",
    "import sys\n",
    "import math\n",
    "import cv2 # Read raw image\n",
    "import glob\n",
    "import random\n",
    "import numpy as np\n",
    "import pickle\n",
    "from matplotlib import pyplot as plt\n",
    "from scipy import ndimage # For rotation task or\n",
    "import imutils\n",
    "from skimage.color import rgb2lab, lab2rgb, rgb2gray\n",
    "from skimage.io import imsave\n",
    "from skimage.transform import resize\n",
    "from pprint import pprint\n",
    "\n",
    "import tensorflow\n",
    "import tensorflow as tf\n",
    "from tensorflow.keras.preprocessing.image import ImageDataGenerator\n",
    "from tensorflow.keras.applications import VGG16\n",
    "from tensorflow.keras import Model\n",
    "from tensorflow.keras.layers import Dense, Flatten, Dropout\n",
    "from tensorflow.keras.optimizers import Adam\n",
    "from tensorflow.python.keras.utils import data_utils\n",
    "from tensorflow.keras.preprocessing.image import Iterator\n",
    "from tensorflow.keras import Input\n",
    "from tensorflow.keras.layers import Conv2D, Conv2DTranspose, UpSampling2D, AveragePooling2D, MaxPooling2D, Reshape, Conv2DTranspose, ZeroPadding2D, Add\n",
    "from tensorflow.keras.layers import Activation, InputLayer, BatchNormalization\n",
    "from tensorflow.keras.callbacks import TensorBoard\n",
    "from tensorflow.keras.models import Sequential, load_model\n",
    "from tensorflow.keras.preprocessing.image import ImageDataGenerator, array_to_img, img_to_array, load_img\n",
    "from tensorflow.keras.layers import PReLU\n",
    "\n",
    "\n",
    "# Check to see if GPU is being used\n",
    "print(tensorflow.test.gpu_device_name())\n",
    "print(\"Num GPUs Available: \", tf.config.experimental.list_physical_devices('GPU'))\n",
    "print(\"Num GPUs Available: \", len(tf.config.experimental.list_physical_devices('GPU')))"
   ]
  },
  {
   "cell_type": "markdown",
   "metadata": {
    "colab_type": "text",
    "id": "FNBiKT_Qe0xr",
    "nbpresent": {
     "id": "aab28143-4b01-421e-8433-93df5d6a360b"
    }
   },
   "source": [
    "# Dataloader creation and test"
   ]
  },
  {
   "cell_type": "code",
   "execution_count": 3,
   "metadata": {},
   "outputs": [
    {
     "name": "stdout",
     "output_type": "stream",
     "text": [
      "len(img_paths): 365\n",
      "X_train: (292, 448, 448, 3)\n",
      "X_test: (73, 448, 448, 3)\n",
      "0.10215889384435281\n",
      "0.11206696264764468\n",
      "Before normalization\n",
      "-0.35306329215878973 0.9133554307612648\n",
      "-0.38055410601879036 0.9248779007187233\n",
      "After normalization\n",
      "0.0 1.0\n",
      "0.0 1.0\n"
     ]
    }
   ],
   "source": [
    "# NEW MODIS DATASET\n",
    "\n",
    "# img_paths = glob.glob(\"/home/satyarth934/data/modis_data_products/*/array_3bands_normalized/448/*\")\n",
    "# img_paths = glob.glob(\"/home/satyarth934/data/modis_data_products/terra/array_3bands_adapted/448/mean_stdev_removed/*\") # <- needs to be normalized\n",
    "img_paths = glob.glob(\"/home/satyarth934/data/modis_data_products/terra/array_3bands_adapted/448/median_removed/*\") # <- needs to be normalized\n",
    "print(\"len(img_paths):\", len(img_paths))\n",
    "random.shuffle(img_paths)\n",
    "\n",
    "train_test_split = 0.8\n",
    "X_train_paths = img_paths[:int(train_test_split*len(img_paths))]\n",
    "X_test_paths = img_paths[int(train_test_split*len(img_paths)):]\n",
    "\n",
    "dims=(448,448,3)\n",
    "\n",
    "# Loading Training Data\n",
    "X_train = np.empty((len(X_train_paths),*dims))\n",
    "for i, p in enumerate(X_train_paths):\n",
    "    X_train[i,:,:,:] = np.load(p)\n",
    "\n",
    "# Loading Testing Data\n",
    "X_test = np.empty((len(X_test_paths),*dims))\n",
    "for i, p in enumerate(X_test_paths):\n",
    "    X_test[i,:,:,:] = np.load(p)\n",
    "\n",
    "print(\"X_train:\", X_train.shape)\n",
    "print(\"X_test:\", X_test.shape)\n",
    "\n",
    "# To check what percentage of pixels are 'nan'\n",
    "print(np.sum(np.isnan(X_train)) / np.prod(X_train.shape))\n",
    "print(np.sum(np.isnan(X_test)) / np.prod(X_test.shape))\n",
    "\n",
    "# Checking min max to see if normalization is needed or not\n",
    "print(\"Before normalization\")\n",
    "print(np.nanmin(X_train), np.nanmax(X_train))\n",
    "print(np.nanmin(X_test), np.nanmax(X_test))\n",
    "\n",
    "# Normalize Inputs\n",
    "def normalize(mat):\n",
    "    valid_cells = np.invert(np.isnan(mat))\n",
    "    normalized = np.subtract(mat, np.nanmin(mat), where=valid_cells) / (np.nanmax(mat) - np.nanmin(mat))\n",
    "    return normalized\n",
    "\n",
    "X_train = normalize(X_train)\n",
    "X_test = normalize(X_test)\n",
    "\n",
    "# Checking min max after normalization \n",
    "print(\"After normalization\")\n",
    "print(np.nanmin(X_train), np.nanmax(X_train))\n",
    "print(np.nanmin(X_test), np.nanmax(X_test))\n",
    "\n",
    "# Set nan values to 0\n",
    "# X_train[np.isnan(X_train)] = 0.0\n",
    "# X_test[np.isnan(X_test)] = 0.0"
   ]
  },
  {
   "cell_type": "code",
   "execution_count": 4,
   "metadata": {},
   "outputs": [
    {
     "data": {
      "text/plain": [
       "6021120"
      ]
     },
     "execution_count": 4,
     "metadata": {},
     "output_type": "execute_result"
    }
   ],
   "source": [
    "np.prod([10,448,448,3])"
   ]
  },
  {
   "cell_type": "code",
   "execution_count": 5,
   "metadata": {
    "colab": {},
    "colab_type": "code",
    "id": "Kt6oH37M-_VN",
    "nbpresent": {
     "id": "e858fa5f-c31d-460b-bcee-387900e7bc04"
    }
   },
   "outputs": [],
   "source": [
    "X_train_reshaped = X_train\n",
    "del X_train\n",
    "X_test_reshaped = X_test\n",
    "del X_test\n",
    "\n",
    "batch_size = 64\n",
    "\n",
    "AUTOTUNE=tensorflow.data.experimental.AUTOTUNE\n",
    "\n",
    "def convert(image, label):\n",
    "    image = tensorflow.image.convert_image_dtype(image, tf.float32) # Cast and normalize the image to [0,1]\n",
    "    label = tensorflow.image.convert_image_dtype(label, tf.float32)\n",
    "    return image, label\n",
    "\n",
    "train_dataset = tf.data.Dataset.from_tensor_slices((X_train_reshaped, X_train_reshaped))\n",
    "test_dataset = tf.data.Dataset.from_tensor_slices((X_test_reshaped, X_test_reshaped))\n",
    "\n",
    "train_dataset = train_dataset.map(convert, num_parallel_calls=AUTOTUNE)\n",
    "train_dataset = train_dataset.cache()\n",
    "train_dataset = train_dataset.batch(batch_size)\n",
    "train_dataset = train_dataset.repeat()\n",
    "train_dataset = train_dataset.prefetch(buffer_size=AUTOTUNE)\n",
    "\n",
    "test_dataset = test_dataset.map(convert, num_parallel_calls=AUTOTUNE)\n",
    "test_dataset = test_dataset.cache()\n",
    "test_dataset = train_dataset.prefetch(buffer_size=AUTOTUNE)"
   ]
  },
  {
   "cell_type": "code",
   "execution_count": 6,
   "metadata": {
    "colab": {},
    "colab_type": "code",
    "id": "EklPj1Gg5ZC-",
    "nbpresent": {
     "id": "3a17fa9a-9454-4d40-961c-23b28bffe294"
    }
   },
   "outputs": [],
   "source": [
    "def batch_lab(batch_size,data_generator,data): # Does basically nothing, but just to help with later tasks\n",
    "  for batch in data_generator.flow(data,batch_size=batch_size):\n",
    "    batch=resize(batch,(batch_size,*dims))\n",
    "#     print(np.max(batch),np.min(batch))\n",
    "    yield batch,batch"
   ]
  },
  {
   "cell_type": "markdown",
   "metadata": {
    "colab_type": "text",
    "id": "1QAgBBBNfDAx",
    "nbpresent": {
     "id": "995cdb5f-d3bf-4238-a738-2002b1624e98"
    }
   },
   "source": [
    "# Model creation"
   ]
  },
  {
   "cell_type": "code",
   "execution_count": 7,
   "metadata": {
    "colab": {
     "base_uri": "https://localhost:8080/",
     "height": 1000
    },
    "colab_type": "code",
    "id": "Y1io4UxIu0Vr",
    "nbpresent": {
     "id": "3d354fe2-5913-4420-aa80-d571a244f2a0"
    },
    "outputId": "d22442f8-a7b1-4e40-ea45-67016d9b3500"
   },
   "outputs": [
    {
     "name": "stdout",
     "output_type": "stream",
     "text": [
      "Model: \"complete_model\"\n",
      "_________________________________________________________________\n",
      "Layer (type)                 Output Shape              Param #   \n",
      "=================================================================\n",
      "conv2d (Conv2D)              (None, 224, 224, 32)      896       \n",
      "_________________________________________________________________\n",
      "p_re_lu (PReLU)              (None, 224, 224, 32)      1605632   \n",
      "_________________________________________________________________\n",
      "conv2d_1 (Conv2D)            (None, 224, 224, 64)      18496     \n",
      "_________________________________________________________________\n",
      "p_re_lu_1 (PReLU)            (None, 224, 224, 64)      3211264   \n",
      "_________________________________________________________________\n",
      "conv2d_2 (Conv2D)            (None, 112, 112, 64)      36928     \n",
      "_________________________________________________________________\n",
      "p_re_lu_2 (PReLU)            (None, 112, 112, 64)      802816    \n",
      "_________________________________________________________________\n",
      "conv2d_3 (Conv2D)            (None, 112, 112, 128)     73856     \n",
      "_________________________________________________________________\n",
      "p_re_lu_3 (PReLU)            (None, 112, 112, 128)     1605632   \n",
      "_________________________________________________________________\n",
      "conv2d_4 (Conv2D)            (None, 56, 56, 128)       147584    \n",
      "_________________________________________________________________\n",
      "p_re_lu_4 (PReLU)            (None, 56, 56, 128)       401408    \n",
      "_________________________________________________________________\n",
      "conv2d_5 (Conv2D)            (None, 56, 56, 256)       295168    \n",
      "_________________________________________________________________\n",
      "p_re_lu_5 (PReLU)            (None, 56, 56, 256)       802816    \n",
      "_________________________________________________________________\n",
      "conv2d_6 (Conv2D)            (None, 28, 28, 256)       590080    \n",
      "_________________________________________________________________\n",
      "p_re_lu_6 (PReLU)            (None, 28, 28, 256)       200704    \n",
      "_________________________________________________________________\n",
      "conv2d_7 (Conv2D)            (None, 28, 28, 15)        34575     \n",
      "_________________________________________________________________\n",
      "p_re_lu_7 (PReLU)            (None, 28, 28, 15)        11760     \n",
      "_________________________________________________________________\n",
      "conv2d_8 (Conv2D)            (None, 28, 28, 5)         680       \n",
      "_________________________________________________________________\n",
      "p_re_lu_8 (PReLU)            (None, 28, 28, 5)         3920      \n",
      "_________________________________________________________________\n",
      "conv2d_transpose (Conv2DTran (None, 28, 28, 128)       5888      \n",
      "_________________________________________________________________\n",
      "p_re_lu_9 (PReLU)            (None, 28, 28, 128)       100352    \n",
      "_________________________________________________________________\n",
      "up_sampling2d (UpSampling2D) (None, 56, 56, 128)       0         \n",
      "_________________________________________________________________\n",
      "conv2d_transpose_1 (Conv2DTr (None, 56, 56, 64)        73792     \n",
      "_________________________________________________________________\n",
      "p_re_lu_10 (PReLU)           (None, 56, 56, 64)        200704    \n",
      "_________________________________________________________________\n",
      "conv2d_transpose_2 (Conv2DTr (None, 56, 56, 64)        36928     \n",
      "_________________________________________________________________\n",
      "p_re_lu_11 (PReLU)           (None, 56, 56, 64)        200704    \n",
      "_________________________________________________________________\n",
      "up_sampling2d_1 (UpSampling2 (None, 112, 112, 64)      0         \n",
      "_________________________________________________________________\n",
      "conv2d_transpose_3 (Conv2DTr (None, 112, 112, 32)      18464     \n",
      "_________________________________________________________________\n",
      "p_re_lu_12 (PReLU)           (None, 112, 112, 32)      401408    \n",
      "_________________________________________________________________\n",
      "conv2d_9 (Conv2D)            (None, 112, 112, 3)       867       \n",
      "_________________________________________________________________\n",
      "p_re_lu_13 (PReLU)           (None, 112, 112, 3)       37632     \n",
      "_________________________________________________________________\n",
      "up_sampling2d_2 (UpSampling2 (None, 224, 224, 3)       0         \n",
      "_________________________________________________________________\n",
      "conv2d_transpose_4 (Conv2DTr (None, 224, 224, 3)       84        \n",
      "_________________________________________________________________\n",
      "p_re_lu_14 (PReLU)           (None, 224, 224, 3)       150528    \n",
      "_________________________________________________________________\n",
      "up_sampling2d_3 (UpSampling2 (None, 448, 448, 3)       0         \n",
      "_________________________________________________________________\n",
      "conv2d_transpose_5 (Conv2DTr (None, 448, 448, 3)       84        \n",
      "=================================================================\n",
      "Total params: 11,071,650\n",
      "Trainable params: 11,071,650\n",
      "Non-trainable params: 0\n",
      "_________________________________________________________________\n",
      "None\n"
     ]
    }
   ],
   "source": [
    "complete_model=Sequential(name=\"complete_model\")\n",
    "complete_model.add(Input(shape=dims))\n",
    "complete_model.add(Conv2D(32, (3, 3), padding=\"same\", strides=2))\n",
    "complete_model.add(PReLU())\n",
    "complete_model.add(Conv2D(64, (3, 3), padding=\"same\"))\n",
    "complete_model.add(PReLU())\n",
    "complete_model.add(Conv2D(64, (3, 3), padding=\"same\", strides=2))\n",
    "complete_model.add(PReLU())\n",
    "complete_model.add(Conv2D(128, (3, 3), padding=\"same\"))\n",
    "complete_model.add(PReLU())\n",
    "complete_model.add(Conv2D(128, (3, 3), padding=\"same\", strides=2))\n",
    "complete_model.add(PReLU())\n",
    "complete_model.add(Conv2D(256, (3, 3), padding=\"same\"))\n",
    "complete_model.add(PReLU())\n",
    "complete_model.add(Conv2D(256, (3, 3), padding=\"same\", strides=2))\n",
    "complete_model.add(PReLU())\n",
    "complete_model.add(Conv2D(15, (3, 3), padding=\"same\"))\n",
    "complete_model.add(PReLU())\n",
    "complete_model.add(Conv2D(5, (3, 3), padding=\"same\"))\n",
    "complete_model.add(PReLU())\n",
    "complete_model.add(Conv2DTranspose(128, (3, 3), padding=\"same\"))\n",
    "complete_model.add(PReLU())\n",
    "complete_model.add(UpSampling2D((2, 2)))\n",
    "complete_model.add(Conv2DTranspose(64, (3, 3),padding=\"same\"))\n",
    "complete_model.add(PReLU())\n",
    "complete_model.add(Conv2DTranspose(64, (3, 3), padding=\"same\"))\n",
    "complete_model.add(PReLU())\n",
    "complete_model.add(UpSampling2D((2, 2)))\n",
    "complete_model.add(Conv2DTranspose(32, (3, 3), padding=\"same\"))\n",
    "complete_model.add(PReLU())\n",
    "complete_model.add(Conv2D(3, (3, 3), padding=\"same\"))\n",
    "complete_model.add(PReLU())\n",
    "complete_model.add(UpSampling2D((2, 2)))\n",
    "complete_model.add(Conv2DTranspose(3, (3, 3), padding=\"same\"))\n",
    "complete_model.add(PReLU())\n",
    "complete_model.add(UpSampling2D((2, 2)))\n",
    "complete_model.add(Conv2DTranspose(3, (3, 3), activation=\"tanh\", padding=\"same\"))\n",
    "\n",
    "print(complete_model.summary())"
   ]
  },
  {
   "cell_type": "code",
   "execution_count": 8,
   "metadata": {},
   "outputs": [],
   "source": [
    "# def encoder(input_shape):\n",
    "\n",
    "#     model = Sequential(name=\"encoder\")\n",
    "#     model.add(Input(shape=input_shape))\n",
    "#     model.add(Conv2D(32, (3, 3), padding=\"same\", strides=2))\n",
    "#     model.add(PReLU())\n",
    "#     model.add(Conv2D(64, (3, 3), padding=\"same\"))\n",
    "#     model.add(PReLU())\n",
    "#     model.add(Conv2D(64, (3, 3), padding=\"same\", strides=2))\n",
    "#     model.add(PReLU())\n",
    "#     model.add(Conv2D(128, (3, 3), padding=\"same\"))\n",
    "#     model.add(PReLU())\n",
    "#     model.add(Conv2D(128, (3, 3), padding=\"same\", strides=2))\n",
    "#     model.add(PReLU())\n",
    "#     model.add(Conv2D(256, (3, 3), padding=\"same\"))\n",
    "#     model.add(PReLU())\n",
    "#     model.add(Conv2D(256, (3, 3), padding=\"same\", strides=2))\n",
    "#     model.add(PReLU())\n",
    "#     model.add(Conv2D(15, (3, 3), padding=\"same\"))\n",
    "#     model.add(PReLU())\n",
    "#     model.add(Conv2D(5, (3, 3), padding=\"same\"))\n",
    "#     model.add(PReLU())\n",
    "#     return model\n",
    "\n",
    "# def decoder(input_shape):\n",
    "#     model = Sequential(name=\"decoder\")\n",
    "#     model.add(Input(shape=input_shape))\n",
    "#     model.add(Conv2DTranspose(128, (3, 3), padding=\"same\"))\n",
    "#     model.add(PReLU())\n",
    "#     model.add(UpSampling2D((2, 2)))\n",
    "#     model.add(Conv2DTranspose(64, (3, 3),padding=\"same\"))\n",
    "#     model.add(PReLU())\n",
    "#     model.add(Conv2DTranspose(64, (3, 3), padding=\"same\"))\n",
    "#     model.add(PReLU())\n",
    "#     model.add(UpSampling2D((2, 2)))\n",
    "#     model.add(Conv2DTranspose(32, (3, 3), padding=\"same\"))\n",
    "#     model.add(PReLU())\n",
    "#     model.add(Conv2D(3, (3, 3), padding=\"same\"))\n",
    "#     model.add(PReLU())\n",
    "#     model.add(UpSampling2D((2, 2)))\n",
    "#     model.add(Conv2DTranspose(3, (3, 3), padding=\"same\"))\n",
    "#     model.add(PReLU())\n",
    "#     model.add(UpSampling2D((2, 2)))\n",
    "#     model.add(Conv2DTranspose(3, (3, 3), activation=\"tanh\", padding=\"same\"))\n",
    "#     return model\n",
    "\n",
    "# encoder_model=encoder(dims)\n",
    "# decoder_model=decoder(encoder_model.output_shape[1:])\n",
    "\n",
    "# complete_model=Sequential(name=\"complete_model\")\n",
    "# # complete_model.add(Input(shape=dims))\n",
    "# complete_model.add(encoder_model)\n",
    "# complete_model.add(decoder_model)\n",
    "\n",
    "# complete_model.build(input_shape=(None,*dims))\n",
    "# print(complete_model.summary())"
   ]
  },
  {
   "cell_type": "code",
   "execution_count": 9,
   "metadata": {},
   "outputs": [],
   "source": [
    "# viz_model = Sequential()\n",
    "# for i in complete_model.submodules:\n",
    "#     viz_model.add(i)\n",
    "\n",
    "# pprint(viz_model.layers)"
   ]
  },
  {
   "cell_type": "markdown",
   "metadata": {
    "colab_type": "text",
    "id": "tsgBqD4dfHoE",
    "nbpresent": {
     "id": "e17df5e1-bee5-4d47-a3da-9eb84d49c2c8"
    }
   },
   "source": [
    "# Model Training"
   ]
  },
  {
   "cell_type": "code",
   "execution_count": 10,
   "metadata": {
    "colab": {
     "base_uri": "https://localhost:8080/",
     "height": 231
    },
    "colab_type": "code",
    "id": "LoPPvZ9Gkm7_",
    "nbpresent": {
     "id": "cb64827a-1712-4fec-8ede-ceb510976282"
    },
    "outputId": "268f6216-575f-4bb5-d92e-fbee17baac21"
   },
   "outputs": [],
   "source": [
    "# complete_model.compile(optimizer='rmsprop', loss='mse')\n",
    "complete_model.compile(optimizer='rmsprop', loss='mse')\n",
    "# complete_model.summary()"
   ]
  },
  {
   "cell_type": "markdown",
   "metadata": {},
   "source": [
    "from tf_explain.callbacks.activations_visualization import ActivationsVisualizationCallback\n",
    "# Define the Activation Visualization callback\n",
    "output_dir = './visualizations'\n",
    "callbacks = [\n",
    "    ActivationsVisualizationCallback(\n",
    "        validation_data=(X_test, X_test),\n",
    "        layers_name=['conv2d_transpose_2'],\n",
    "        output_dir=output_dir,\n",
    "    ),\n",
    "]"
   ]
  },
  {
   "cell_type": "code",
   "execution_count": 12,
   "metadata": {},
   "outputs": [
    {
     "name": "stdout",
     "output_type": "stream",
     "text": [
      "(1, 448, 448, 3)\n"
     ]
    },
    {
     "data": {
      "image/png": "[encoded data removed]",
      "text/plain": [
       "<Figure size 432x288 with 1 Axes>"
      ]
     },
     "metadata": {
      "needs_background": "light"
     },
     "output_type": "display_data"
    }
   ],
   "source": [
    "from tf_explain.callbacks.activations_visualization import ActivationsVisualizationCallback\n",
    "\n",
    "image = np.expand_dims(X_test_reshaped[0],0)\n",
    "# image = X_test_reshaped[0:10]\n",
    "print(image.shape)\n",
    "plt.figure(0)\n",
    "plt.imshow(image[0])\n",
    "plt.show()\n",
    "\n",
    "# Define the Activation Visualization callback\n",
    "# output_dir = './visualizations_modis'\n",
    "output_dir = './modis_logs'\n",
    "callbacks = [\n",
    "    ActivationsVisualizationCallback(\n",
    "        validation_data=(image,),\n",
    "        layers_name=['conv2d_8'],\n",
    "        output_dir=output_dir,\n",
    "    ),\n",
    "]\n",
    "\n",
    "# tensorboard_callback = tf.keras.callbacks.TensorBoard(log_dir=\"./tf_callback\")\n",
    "tensorboard_callback = tf.keras.callbacks.TensorBoard(log_dir=\"./modis_logs\")"
   ]
  },
  {
   "cell_type": "code",
   "execution_count": 13,
   "metadata": {
    "colab": {
     "base_uri": "https://localhost:8080/",
     "height": 35
    },
    "colab_type": "code",
    "id": "YdOe_DrN625Q",
    "nbpresent": {
     "id": "b0d9a082-fc8c-4e83-9a85-22a6edfcca3d"
    },
    "outputId": "82a08312-5318-4137-8df2-29cf18f9b461"
   },
   "outputs": [
    {
     "name": "stdout",
     "output_type": "stream",
     "text": [
      "Epoch 1/5\n",
      "5/4 [================================] - 14s 3s/step - loss: 0.3465 - val_loss: 0.0888\n",
      "Epoch 2/5\n",
      "5/4 [================================] - 7s 1s/step - loss: 0.0931 - val_loss: 0.0871\n",
      "Epoch 3/5\n",
      "5/4 [================================] - 7s 1s/step - loss: 0.0774 - val_loss: 0.1800\n",
      "Epoch 4/5\n",
      "5/4 [================================] - 7s 1s/step - loss: 0.1010 - val_loss: 0.0657\n",
      "Epoch 5/5\n",
      "5/4 [================================] - 7s 1s/step - loss: 0.0636 - val_loss: 0.0704\n"
     ]
    },
    {
     "data": {
      "text/plain": [
       "<tensorflow.python.keras.callbacks.History at 0x7f33b04bb2d0>"
      ]
     },
     "execution_count": 13,
     "metadata": {},
     "output_type": "execute_result"
    }
   ],
   "source": [
    "complete_model.fit(train_dataset,\n",
    "                    epochs=5,\n",
    "                    steps_per_epoch=len(X_train_reshaped)/batch_size,\n",
    "                    validation_data=test_dataset,\n",
    "                    validation_steps=len(X_test_reshaped)/batch_size,\n",
    "                    callbacks=[callbacks, tensorboard_callback],\n",
    "                    use_multiprocessing=True\n",
    "                  )\n"
   ]
  },
  {
   "cell_type": "code",
   "execution_count": null,
   "metadata": {
    "colab": {},
    "colab_type": "code",
    "id": "kKAAVsxOilTL",
    "nbpresent": {
     "id": "aaf72caf-bfaa-41ee-93da-e78ce5478950"
    }
   },
   "outputs": [],
   "source": [
    "# complete_model.save('../ssd/proxy_models/ae_epoch100_ucmerced')"
   ]
  },
  {
   "cell_type": "markdown",
   "metadata": {
    "colab_type": "text",
    "id": "AoNBrpVzOxWJ",
    "nbpresent": {
     "id": "5664feb5-4dfe-4310-b990-708a8287b49b"
    }
   },
   "source": [
    "## Model Testing"
   ]
  },
  {
   "cell_type": "code",
   "execution_count": null,
   "metadata": {},
   "outputs": [],
   "source": [
    "from tf_explain.core.activations import ExtractActivations\n",
    "\n",
    "# Define the Activation Visualization explainer\n",
    "index = np.random.randint(0,len(X_test_reshaped))\n",
    "# image = input_test[index].reshape((1, 32, 32, 3))\n",
    "# image = np.expand_dims(X_test_reshaped[index],0)\n",
    "image = X_test_reshaped[index:index+10]\n",
    "label = image\n",
    "print('val:', image.shape)\n",
    "\n",
    "data = ([image])\n",
    "explainer = ExtractActivations()\n",
    "\n",
    "layers_of_interest = ['conv2d_1']\n",
    "grid = explainer.explain(validation_data=data, model=complete_model, layers_name=['conv2d_1'])\n",
    "print(grid.shape)\n",
    "explainer.save(grid, '.', 'conv2d_1.png')\n",
    "\n",
    "grid = explainer.explain(validation_data=data, model=complete_model, layers_name=['conv2d_2'])\n",
    "print(grid.shape)\n",
    "explainer.save(grid, '.', 'conv2d_2.png')\n",
    "\n",
    "grid = explainer.explain(validation_data=data, model=complete_model, layers_name=['conv2d_3'])\n",
    "print(grid.shape)\n",
    "explainer.save(grid, '.', 'conv2d_3.png')\n",
    "\n",
    "grid = explainer.explain(validation_data=data, model=complete_model, layers_name=['conv2d_8'])\n",
    "print(grid.shape)\n",
    "explainer.save(grid, '.', 'conv2d_8.png')"
   ]
  },
  {
   "cell_type": "code",
   "execution_count": null,
   "metadata": {
    "colab": {},
    "colab_type": "code",
    "id": "0xLbk6TMXyW8",
    "nbpresent": {
     "id": "dc72d990-239e-49ee-a077-b32a9a6571c8"
    }
   },
   "outputs": [],
   "source": [
    "for i in range(10):\n",
    "    index=np.random.randint(0,len(X_test_reshaped))\n",
    "\n",
    "    X_test_im=np.expand_dims(X_test_reshaped[index],0)\n",
    "    out_image=np.squeeze(complete_model.predict(X_test_im))\n",
    "    \n",
    "    im_min=out_image.min(axis=(0, 1), keepdims=True)\n",
    "    im_max=out_image.max(axis=(0, 1), keepdims=True)\n",
    "    out_image=(out_image-im_min)/(im_max-im_min)\n",
    "    \n",
    "    \n",
    "    print(\"Orig \",np.min(X_test_im),np.max(X_test_im))\n",
    "    print(\"Gen \",np.min(out_image),np.max(out_image))\n",
    "    fig=plt.figure()\n",
    "    plt.subplot(1, 3, 1)\n",
    "    plt.imshow(X_test_reshaped[index])\n",
    "    plt.subplot(1,3,2)\n",
    "    plt.imshow(np.squeeze(X_test_im))\n",
    "    plt.subplot(1,3,3)\n",
    "    plt.imshow(out_image)\n",
    "    plt.show()"
   ]
  },
  {
   "cell_type": "markdown",
   "metadata": {},
   "source": [
    "## Modifying Loss Function"
   ]
  },
  {
   "cell_type": "code",
   "execution_count": null,
   "metadata": {},
   "outputs": [],
   "source": [
    "model.save('/home/satyarth934/code/FDL_2020/Models/model')"
   ]
  }
 ],
 "metadata": {
  "accelerator": "GPU",
  "colab": {
   "collapsed_sections": [],
   "name": "SelfSup-(Autoencoder, UCMERCED).ipynb",
   "provenance": []
  },
  "kernelspec": {
   "display_name": "Python 3",
   "language": "python",
   "name": "python3"
  },
  "language_info": {
   "codemirror_mode": {
    "name": "ipython",
    "version": 3
   },
   "file_extension": ".py",
   "mimetype": "text/x-python",
   "name": "python",
   "nbconvert_exporter": "python",
   "pygments_lexer": "ipython3",
   "version": "3.7.6"
  },
  "latex_envs": {
   "LaTeX_envs_menu_present": true,
   "autoclose": true,
   "autocomplete": true,
   "bibliofile": "biblio.bib",
   "cite_by": "apalike",
   "current_citInitial": 1,
   "eqLabelWithNumbers": true,
   "eqNumInitial": 1,
   "hotkeys": {
    "equation": "Ctrl-E",
    "itemize": "Ctrl-I"
   },
   "labels_anchors": false,
   "latex_user_defs": false,
   "report_style_numbering": false,
   "user_envs_cfg": false
  },
  "toc": {
   "base_numbering": 1,
   "nav_menu": {},
   "number_sections": true,
   "sideBar": false,
   "skip_h1_title": false,
   "title_cell": "Table of Contents",
   "title_sidebar": "Contents",
   "toc_cell": true,
   "toc_position": {},
   "toc_section_display": true,
   "toc_window_display": false
  },
  "varInspector": {
   "cols": {
    "lenName": 16,
    "lenType": 16,
    "lenVar": 40
   },
   "kernels_config": {
    "python": {
     "delete_cmd_postfix": "",
     "delete_cmd_prefix": "del ",
     "library": "var_list.py",
     "varRefreshCmd": "print(var_dic_list())"
    },
    "r": {
     "delete_cmd_postfix": ") ",
     "delete_cmd_prefix": "rm(",
     "library": "var_list.r",
     "varRefreshCmd": "cat(var_dic_list()) "
    }
   },
   "types_to_exclude": [
    "module",
    "function",
    "builtin_function_or_method",
    "instance",
    "_Feature"
   ],
   "window_display": false
  }
 },
 "nbformat": 4,
 "nbformat_minor": 4
}
