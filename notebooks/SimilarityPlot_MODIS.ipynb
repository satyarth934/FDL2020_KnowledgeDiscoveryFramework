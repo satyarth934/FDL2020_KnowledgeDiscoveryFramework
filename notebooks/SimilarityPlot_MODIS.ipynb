{
 "cells": [
  {
   "cell_type": "code",
   "execution_count": 1,
   "metadata": {},
   "outputs": [],
   "source": [
    "import os\n",
    "from os import path\n",
    "import sys\n",
    "import math\n",
    "import cv2 # Read raw image\n",
    "import glob\n",
    "import random\n",
    "import numpy as np\n",
    "import pickle\n",
    "from matplotlib import pyplot as plt\n",
    "from scipy import ndimage # For rotation task or\n",
    "import imutils\n",
    "import subprocess\n",
    "from PIL import Image\n",
    "from skimage.color import rgb2lab, lab2rgb, rgb2gray\n",
    "from skimage.io import imsave\n",
    "from skimage.transform import resize\n",
    "from sklearn.neighbors import NearestNeighbors\n",
    "from sklearn.manifold import TSNE\n",
    "from sklearn.decomposition import PCA\n",
    "from pprint import pprint\n",
    "from tqdm import tqdm, tqdm_notebook\n",
    "\n",
    "random.seed(165)"
   ]
  },
  {
   "cell_type": "code",
   "execution_count": 2,
   "metadata": {},
   "outputs": [],
   "source": [
    "# DATA_PATH = \"/home/satyarth934/data/modis_data_products/*/array_3bands_normalized/448/*\"\n",
    "# DATA_PATH = \"/home/satyarth934/data/modis_data_products/terra/array_3bands_adapted/448/mean_stdev_removed/*\" # <- needs to be normalized\n",
    "DATA_PATH = \"/home/satyarth934/data/modis_data_products/terra/array_3bands_adapted/448/median_removed/*\" # <- needs to be normalized\n",
    "MODEL_NAME = \"baseAE_median_localRandom_in_swatch\"\n",
    "BASE_DIR = \"/home/satyarth934/code/FDL_2020/\"\n",
    "NORMALIZE = True\n",
    "SAVE_FILES = True\n",
    "\n",
    "OUTPUT_MODEL_PATH = BASE_DIR + \"Models/\" + MODEL_NAME\n",
    "TENSORBOARD_LOG_DIR = BASE_DIR + \"tb_logs/\" + MODEL_NAME\n",
    "ACTIVATION_IMG_PATH = BASE_DIR + \"activation_viz/\" + MODEL_NAME\n",
    "\n",
    "FEATURES_PARENT_DIR = BASE_DIR + \"Features/\" + MODEL_NAME\n",
    "PATH_LIST = FEATURES_PARENT_DIR + \"/filenames.pkl\"\n",
    "FEATURES_OUTPUT = FEATURES_PARENT_DIR + \"/features.pkl\"\n",
    "\n",
    "# NUM_EPOCHS = 200\n",
    "\n",
    "dust_labels = {0: \"Dust\", 1: \"Hazy\", 2: \"No Dust\"}"
   ]
  },
  {
   "cell_type": "code",
   "execution_count": 3,
   "metadata": {},
   "outputs": [],
   "source": [
    "X_test_paths = pickle.load(file=open((PATH_LIST), 'rb'))\n",
    "feature_list = pickle.load(file=open((FEATURES_OUTPUT), 'rb'))"
   ]
  },
  {
   "cell_type": "code",
   "execution_count": null,
   "metadata": {},
   "outputs": [],
   "source": [
    "# Select only the filenames that are labelled.\n",
    "print(len(X_test_paths), len(feature_list))\n",
    "X_test_paths = [f for f in X_test_paths if int(f.split(\"/\")[-1].split(\".\")[1][1:]) < 2015248]\n",
    "feature_list = [feature_list[i] for i, f in enumerate(X_test_paths) if int(f.split(\"/\")[-1].split(\".\")[1][1:]) < 2015248]\n",
    "print(len(X_test_paths), len(feature_list))"
   ]
  },
  {
   "cell_type": "code",
   "execution_count": null,
   "metadata": {},
   "outputs": [],
   "source": [
    "num_images = len(X_test_paths)\n",
    "num_features_per_image = len(feature_list[0])\n",
    "print(\"Number of images = \", num_images)\n",
    "print(\"Number of features per image = \", num_features_per_image)"
   ]
  },
  {
   "cell_type": "code",
   "execution_count": null,
   "metadata": {},
   "outputs": [],
   "source": [
    "# Use scikit-learn to find Nearest Neighbors\n",
    "neighbors = NearestNeighbors(n_neighbors=50,\n",
    "                             algorithm='brute',\n",
    "                             metric='euclidean').fit(feature_list)"
   ]
  },
  {
   "cell_type": "code",
   "execution_count": null,
   "metadata": {},
   "outputs": [],
   "source": [
    "# Helper function to get the classname\n",
    "def classname(str):\n",
    "    dust_gt = pickle.load(file=open((\"/home/satyarth934/data/modis_data_products/MODIS_Dust_Events_2010_2020_h16v7.pkl\"), mode = 'rb'))\n",
    "    doy = str.split('/')[-1].split('.')[1][1:]\n",
    "    return dust_gt[doy]\n",
    "#     return str.split('/')[-2]\n",
    "\n",
    "\n",
    "# Helper function to get the classname and filename\n",
    "def classname_filename(str):\n",
    "    return dust_labels[classname(str)] + '/' + str.split('/')[-1].split(\".\")[1]\n",
    "\n",
    "\n",
    "# Normalize the image to plot\n",
    "def normalize(mat):\n",
    "    normalized = (mat - np.nanmin(mat)) / (np.nanmax(mat) - np.nanmin(mat))\n",
    "    return normalized\n",
    "\n",
    "\n",
    "# Helper functions to plot the nearest images given a query image\n",
    "def plot_images(filenames, distances):\n",
    "    images = []\n",
    "    for filename in filenames:\n",
    "        np_img = np.load(filename)\n",
    "        if NORMALIZE:\n",
    "            np_img = normalize(np_img)\n",
    "        \n",
    "        images.append(np_img)\n",
    "    plt.figure(figsize=(20, 10))\n",
    "    columns = 4\n",
    "    for i, image in enumerate(images):\n",
    "        ax = plt.subplot(len(images) / columns + 1, columns, i + 1)\n",
    "        if i == 0:\n",
    "            ax.set_title(\"Query Image\\n\" + classname_filename(filenames[i]))\n",
    "        else:\n",
    "            ax.set_title(\"Similar Image\\n\" + classname_filename(filenames[i]) +\n",
    "                         \"\\nDistance: \" +\n",
    "                         str(float(\"{0:.2f}\".format(distances[i]))))\n",
    "        plt.imshow(image)\n",
    "        # To save the plot in a high definition format i.e. PDF, uncomment the following line:\n",
    "        if SAVE_FILES:\n",
    "            file_parent = BASE_DIR + \"Features/Images/\" + MODEL_NAME\n",
    "            subprocess.call(\"mkdir -p \" + file_parent, shell=True)\n",
    "            output_path = file_parent + \"/similar_%s_%s.pdf\" % (filenames[i].split('/')[-1].split(\".\")[1], dust_labels[classname(filenames[i])])\n",
    "            plt.savefig(output_path, format='pdf', dpi=1000)\n",
    "        # We will use this line repeatedly in our code."
   ]
  },
  {
   "cell_type": "code",
   "execution_count": null,
   "metadata": {},
   "outputs": [],
   "source": [
    "for i in range(6):\n",
    "    random_image_index = random.randint(0, num_images)\n",
    "#     random_image_index = 142\n",
    "    distances, indices = neighbors.kneighbors([feature_list[random_image_index]])\n",
    "    print(random_image_index)\n",
    "    print(indices[0][:15])\n",
    "    print([float(\"%.2f\"%d) for d in distances[0][:15]])\n",
    "    \n",
    "    # Don't take the first closest image as it will be the same image\n",
    "    similar_image_paths = [X_test_paths[random_image_index]] + [X_test_paths[indices[0][i]] for i in range(1, 4)]\n",
    "    pprint([p.split(\"/\")[-1] for p in similar_image_paths])\n",
    "    plot_images(similar_image_paths, distances[0][1:])\n",
    "    plt.show()"
   ]
  },
  {
   "cell_type": "code",
   "execution_count": null,
   "metadata": {},
   "outputs": [],
   "source": [
    "neighbors = NearestNeighbors(n_neighbors=len(feature_list),\n",
    "                             algorithm='brute',\n",
    "                             metric='euclidean').fit(feature_list)\n",
    "distances, indices = neighbors.kneighbors(feature_list)\n",
    "\n",
    "# Calculating some stats\n",
    "print(\"Median distance between all photos: \", np.median(distances))\n",
    "print(\"Max distance between all photos: \", np.max(distances))\n",
    "print(\"Median distance among most similar photos: \",\n",
    "      np.median(distances[:, 2]))"
   ]
  },
  {
   "cell_type": "code",
   "execution_count": null,
   "metadata": {},
   "outputs": [],
   "source": [
    "selected_features = feature_list[:]\n",
    "selected_class_ids = [classname(f) for f in X_test_paths[:]]\n",
    "selected_filenames = X_test_paths[:]\n",
    "\n",
    "print(len(selected_features))\n",
    "print(len(selected_class_ids))\n",
    "print(len(selected_filenames))"
   ]
  },
  {
   "cell_type": "code",
   "execution_count": null,
   "metadata": {},
   "outputs": [],
   "source": [
    "import time\n",
    "from sklearn.manifold import TSNE\n",
    "\n",
    "# You can play with these values and see how the results change\n",
    "n_components = 2\n",
    "verbose = 1\n",
    "perplexity = 30\n",
    "n_iter = 1000\n",
    "metric = 'euclidean'\n",
    "\n",
    "time_start = time.time()\n",
    "tsne_results = TSNE(n_components=n_components,\n",
    "                    verbose=verbose,\n",
    "                    perplexity=perplexity,\n",
    "                    n_iter=n_iter,\n",
    "                    metric=metric).fit_transform(selected_features)\n",
    "\n",
    "print('t-SNE done! Time elapsed: {} seconds'.format(time.time() - time_start))"
   ]
  },
  {
   "cell_type": "code",
   "execution_count": null,
   "metadata": {},
   "outputs": [],
   "source": [
    "color_map = plt.cm.get_cmap('coolwarm')\n",
    "scatter_plot = plt.scatter(tsne_results[:, 0],\n",
    "                           tsne_results[:, 1],\n",
    "                           c=selected_class_ids,\n",
    "                           cmap=color_map)\n",
    "plt.colorbar(scatter_plot)\n",
    "plt.savefig(FEATURES_PARENT_DIR + \"/tSNE_scatter.png\")\n",
    "plt.show()\n",
    "# To save the plot in a high definition format i.e. PDF, uncomment the following line:\n"
   ]
  },
  {
   "cell_type": "code",
   "execution_count": null,
   "metadata": {},
   "outputs": [],
   "source": [
    "from matplotlib.offsetbox import OffsetImage, AnnotationBbox\n",
    "from matplotlib.cbook import get_sample_data\n",
    "\n",
    "\n",
    "def plot_images_in_2d(x, y, image_paths, axis=None, zoom=1):\n",
    "    if axis is None:\n",
    "        axis = plt.gca()\n",
    "    x, y = np.atleast_1d(x, y)\n",
    "    for x0, y0, image_path in zip(x, y, image_paths):\n",
    "        image = Image.fromarray(np.uint8(np.load(image_path)*255))\n",
    "        image.thumbnail((100, 100), Image.ANTIALIAS)\n",
    "        img = OffsetImage(image, zoom=zoom)\n",
    "        anno_box = AnnotationBbox(img, (x0, y0),\n",
    "                                  xycoords='data',\n",
    "                                  frameon=False)\n",
    "        axis.add_artist(anno_box)\n",
    "    axis.update_datalim(np.column_stack([x, y]))\n",
    "    axis.autoscale()"
   ]
  },
  {
   "cell_type": "code",
   "execution_count": null,
   "metadata": {},
   "outputs": [],
   "source": [
    "def show_tsne(x, y, selected_filenames):\n",
    "    fig, axis = plt.subplots()\n",
    "    fig.set_size_inches(22, 22, forward=True)\n",
    "    plot_images_in_2d(x, y, selected_filenames, zoom=0.3, axis=axis)\n",
    "    plt.savefig(FEATURES_PARENT_DIR + \"/tSNE_img_scatter.png\")\n",
    "    plt.show()"
   ]
  },
  {
   "cell_type": "code",
   "execution_count": null,
   "metadata": {},
   "outputs": [],
   "source": [
    "show_tsne(tsne_results[:, 0], tsne_results[:, 1], selected_filenames)"
   ]
  },
  {
   "cell_type": "code",
   "execution_count": null,
   "metadata": {},
   "outputs": [],
   "source": [
    "def tsne_to_grid_plotter_manual(x, y, selected_filenames):\n",
    "    S = 2000\n",
    "    s = 100\n",
    "    x = (x - min(x)) / (max(x) - min(x))\n",
    "    y = (y - min(y)) / (max(y) - min(y))\n",
    "    x_values = []\n",
    "    y_values = []\n",
    "    filename_plot = []\n",
    "    x_y_dict = {}\n",
    "    for i, image_path in enumerate(selected_filenames):\n",
    "        a = np.ceil(x[i] * (S - s))\n",
    "        b = np.ceil(y[i] * (S - s))\n",
    "        a = int(a - np.mod(a, s))\n",
    "        b = int(b - np.mod(b, s))\n",
    "        if str(a) + \"|\" + str(b) in x_y_dict:\n",
    "            continue\n",
    "        x_y_dict[str(a) + \"|\" + str(b)] = 1\n",
    "        x_values.append(a)\n",
    "        y_values.append(b)\n",
    "        filename_plot.append(image_path)\n",
    "    fig, axis = plt.subplots()\n",
    "    fig.set_size_inches(22, 22, forward=True)\n",
    "    plot_images_in_2d(x_values, y_values, filename_plot, zoom=.58, axis=axis)\n",
    "    plt.savefig(FEATURES_PARENT_DIR + \"/tSNE_img_grid.png\")\n",
    "    plt.show()"
   ]
  },
  {
   "cell_type": "code",
   "execution_count": null,
   "metadata": {},
   "outputs": [],
   "source": [
    "tsne_to_grid_plotter_manual(tsne_results[:, 0], tsne_results[:, 1],\n",
    "                            selected_filenames)"
   ]
  },
  {
   "cell_type": "code",
   "execution_count": null,
   "metadata": {},
   "outputs": [],
   "source": []
  }
 ],
 "metadata": {
  "kernelspec": {
   "display_name": "Python 3",
   "language": "python",
   "name": "python3"
  },
  "language_info": {
   "codemirror_mode": {
    "name": "ipython",
    "version": 3
   },
   "file_extension": ".py",
   "mimetype": "text/x-python",
   "name": "python",
   "nbconvert_exporter": "python",
   "pygments_lexer": "ipython3",
   "version": "3.7.6"
  }
 },
 "nbformat": 4,
 "nbformat_minor": 4
}
