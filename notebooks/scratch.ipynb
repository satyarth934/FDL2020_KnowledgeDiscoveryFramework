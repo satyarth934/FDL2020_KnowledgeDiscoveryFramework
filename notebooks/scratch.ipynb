{
 "cells": [
  {
   "cell_type": "markdown",
   "metadata": {
    "nbpresent": {
     "id": "211e6c7d-d258-4e31-8216-ac33886a0f23"
    },
    "toc": true
   },
   "source": [
    "<h1>Table of Contents<span class=\"tocSkip\"></span></h1>\n",
    "<div class=\"toc\"><ul class=\"toc-item\"><li><span><a href=\"#Imports\" data-toc-modified-id=\"Imports-1\"><span class=\"toc-item-num\">1&nbsp;&nbsp;</span>Imports</a></span></li><li><span><a href=\"#Data-Augmentation/Analysis\" data-toc-modified-id=\"Data-Augmentation/Analysis-2\"><span class=\"toc-item-num\">2&nbsp;&nbsp;</span>Data Augmentation/Analysis</a></span></li><li><span><a href=\"#Dataloader-creation-and-test\" data-toc-modified-id=\"Dataloader-creation-and-test-3\"><span class=\"toc-item-num\">3&nbsp;&nbsp;</span>Dataloader creation and test</a></span></li><li><span><a href=\"#Model-creation\" data-toc-modified-id=\"Model-creation-4\"><span class=\"toc-item-num\">4&nbsp;&nbsp;</span>Model creation</a></span></li><li><span><a href=\"#Model-Training\" data-toc-modified-id=\"Model-Training-5\"><span class=\"toc-item-num\">5&nbsp;&nbsp;</span>Model Training</a></span><ul class=\"toc-item\"><li><span><a href=\"#Model-Testing\" data-toc-modified-id=\"Model-Testing-5.1\"><span class=\"toc-item-num\">5.1&nbsp;&nbsp;</span>Model Testing</a></span></li></ul></li></ul></div>"
   ]
  },
  {
   "cell_type": "markdown",
   "metadata": {
    "colab_type": "text",
    "id": "561rrpfX_VaY",
    "nbpresent": {
     "id": "8902066f-f256-4e6f-8533-16bcb4553d9a"
    }
   },
   "source": [
    "**GET DATA**\n",
    "\n",
    "Summary of this notebook: ...\n",
    "\n",
    "Definition of Done: ..."
   ]
  },
  {
   "cell_type": "markdown",
   "metadata": {
    "colab_type": "text",
    "id": "6Ev8fWuVejb0",
    "nbpresent": {
     "id": "72814092-eab4-4440-910f-bb7b555411ee"
    }
   },
   "source": [
    "# Imports\n"
   ]
  },
  {
   "cell_type": "code",
   "execution_count": 2,
   "metadata": {
    "colab": {
     "base_uri": "https://localhost:8080/",
     "height": 35
    },
    "colab_type": "code",
    "id": "TKfFt17nGyDm",
    "nbpresent": {
     "id": "da6aef7a-c579-4384-9373-2cb20ffe43c8"
    },
    "outputId": "5f14dba2-bda1-40e5-c791-d45c75971997"
   },
   "outputs": [
    {
     "name": "stdout",
     "output_type": "stream",
     "text": [
      "/device:GPU:0\n",
      "Num GPUs Available:  [PhysicalDevice(name='/physical_device:GPU:0', device_type='GPU'), PhysicalDevice(name='/physical_device:GPU:1', device_type='GPU')]\n",
      "Num GPUs Available:  2\n"
     ]
    }
   ],
   "source": [
    "import os\n",
    "from os import path\n",
    "import sys\n",
    "import math\n",
    "import cv2 # Read raw image\n",
    "import glob\n",
    "import random\n",
    "import numpy as np\n",
    "import pickle\n",
    "from matplotlib import pyplot as plt\n",
    "from scipy import ndimage # For rotation task or\n",
    "import imutils\n",
    "from skimage.color import rgb2lab, lab2rgb, rgb2gray\n",
    "from skimage.io import imsave\n",
    "from skimage.transform import resize\n",
    "from pprint import pprint\n",
    "import tqdm\n",
    "\n",
    "import tensorflow\n",
    "import tensorflow as tf\n",
    "from tensorflow.keras.preprocessing.image import ImageDataGenerator\n",
    "from tensorflow.keras.applications import VGG16\n",
    "from tensorflow.keras import Model\n",
    "from tensorflow.keras.layers import Dense, Flatten, Dropout\n",
    "from tensorflow.keras.optimizers import Adam\n",
    "from tensorflow.python.keras.utils import data_utils\n",
    "from tensorflow.keras.preprocessing.image import Iterator\n",
    "from tensorflow.keras import Input\n",
    "from tensorflow.keras.layers import Conv2D, Conv2DTranspose, UpSampling2D, AveragePooling2D, MaxPooling2D, Reshape, Conv2DTranspose, ZeroPadding2D, Add\n",
    "from tensorflow.keras.layers import Activation, InputLayer, BatchNormalization\n",
    "from tensorflow.keras.callbacks import TensorBoard\n",
    "from tensorflow.keras.models import Sequential, load_model\n",
    "from tensorflow.keras.preprocessing.image import ImageDataGenerator, array_to_img, img_to_array, load_img\n",
    "from tensorflow.keras.layers import PReLU\n",
    "\n",
    "sys.path.append(\"/home/satyarth934/code/FDL_2020/training_scripts\")\n",
    "import utils\n",
    "\n",
    "# Check to see if GPU is being used\n",
    "print(tensorflow.test.gpu_device_name())\n",
    "print(\"Num GPUs Available: \", tf.config.experimental.list_physical_devices('GPU'))\n",
    "print(\"Num GPUs Available: \", len(tf.config.experimental.list_physical_devices('GPU')))"
   ]
  },
  {
   "cell_type": "code",
   "execution_count": 3,
   "metadata": {},
   "outputs": [
    {
     "name": "stdout",
     "output_type": "stream",
     "text": [
      "len(img_paths): 5345\n"
     ]
    }
   ],
   "source": [
    "DATA_PATH = \"/home/satyarth934/data/nasa_impact/hurricanes/*/*\"\n",
    "\n",
    "NORMALIZE = True\n",
    "MODEL_NAME = \"baseAE_hurricane_try2\"\n",
    "OUTPUT_MODEL_PATH = \"/home/satyarth934/code/FDL_2020/Models/\" + MODEL_NAME\n",
    "TENSORBOARD_LOG_DIR = \"/home/satyarth934/code/FDL_2020/tb_logs/\" + MODEL_NAME\n",
    "ACTIVATION_IMG_PATH = \"/home/satyarth934/code/FDL_2020/activation_viz/\" + MODEL_NAME\n",
    "PATH_LIST_LOCATION = \"/home/satyarth934/code/FDL_2020/activation_viz/\" + MODEL_NAME + \"/train_test_paths.npy\"\n",
    "\n",
    "NUM_EPOCHS = 200\n",
    "BATCH_SIZE = 64\n",
    "INTERPOLATE_DATA_GAP = False\n",
    "\n",
    "dims = (448, 448, 3)\n",
    "    \n",
    "# Dataloader creation and test\n",
    "img_paths = glob.glob(DATA_PATH)\n",
    "print(\"len(img_paths):\", len(img_paths))"
   ]
  },
  {
   "cell_type": "code",
   "execution_count": 4,
   "metadata": {},
   "outputs": [],
   "source": [
    "# wind_speed in knots\n",
    "def getCategory(wind_speed):\n",
    "    if wind_speed <= 33:\n",
    "        return 'TD'\n",
    "    elif 34 <= wind_speed <= 63:\n",
    "        return 'TS'\n",
    "    elif 64 <= wind_speed <= 82:\n",
    "        return 'C1'\n",
    "    elif 83 <= wind_speed <= 95:\n",
    "        return 'C2'\n",
    "    elif 96 <= wind_speed <= 112:\n",
    "        return 'C3'\n",
    "    elif 113 <= wind_speed <= 136:\n",
    "        return 'C4'\n",
    "    elif wind_speed >= 137:\n",
    "        return 'C5'\n",
    "\n",
    "\n",
    "def classname(str):    \n",
    "    file_name = str.split(\"/\")[-1]\n",
    "    wind_speed = int(file_name.split(\".\")[0].split(\"_\")[-1].strip(\"kts\"))\n",
    "    return getCategory(wind_speed)"
   ]
  },
  {
   "cell_type": "code",
   "execution_count": 5,
   "metadata": {},
   "outputs": [
    {
     "name": "stderr",
     "output_type": "stream",
     "text": [
      "100%|██████████| 5345/5345 [00:00<00:00, 298238.06it/s]"
     ]
    },
    {
     "name": "stdout",
     "output_type": "stream",
     "text": [
      "{'TS': 2720, 'TD': 1611, 'C3': 186, 'C1': 378, 'C2': 264, 'C4': 153, 'C5': 33}\n"
     ]
    },
    {
     "name": "stderr",
     "output_type": "stream",
     "text": [
      "\n"
     ]
    }
   ],
   "source": [
    "class_count = {}\n",
    "for imgpath in tqdm.tqdm(img_paths):\n",
    "    cid = classname(imgpath)\n",
    "    if cid not in class_count:\n",
    "        class_count[cid] = 1\n",
    "    else:\n",
    "        class_count[cid] += 1\n",
    "\n",
    "print(class_count)"
   ]
  },
  {
   "cell_type": "code",
   "execution_count": 29,
   "metadata": {},
   "outputs": [
    {
     "name": "stderr",
     "output_type": "stream",
     "text": [
      "100%|██████████| 5345/5345 [00:00<00:00, 483742.34it/s]"
     ]
    },
    {
     "name": "stdout",
     "output_type": "stream",
     "text": [
      "{'C1': 70, 'C2': 70, 'C3': 70, 'C4': 70, 'C5': 33, 'TD': 70, 'TS': 70}\n",
      "len(tiny_train_subset): 363\n",
      "len(tiny_valid_subset): 90\n",
      "len(test_subset): 4892\n"
     ]
    },
    {
     "name": "stderr",
     "output_type": "stream",
     "text": [
      "\n"
     ]
    }
   ],
   "source": [
    "tiny_train_subset = []\n",
    "class_count = {}\n",
    "\n",
    "num_samples_per_class = 70\n",
    "for imgpath in tqdm.tqdm(img_paths):\n",
    "    cid = classname(imgpath)\n",
    "    if cid not in class_count:\n",
    "        class_count[cid] = 1\n",
    "        tiny_train_subset.append(imgpath)\n",
    "    elif class_count[cid] >= num_samples_per_class:\n",
    "        continue\n",
    "    else:\n",
    "        class_count[cid] += 1\n",
    "        tiny_train_subset.append(imgpath)\n",
    "    \n",
    "pprint(class_count)\n",
    "\n",
    "test_subset = list(set(img_paths) - set(tiny_train_subset))\n",
    "\n",
    "tiny_valid_subset = random.sample(tiny_train_subset, \n",
    "                                  int(0.2 * len(tiny_train_subset)))\n",
    "tiny_train_subset = list(set(tiny_train_subset) - set(tiny_valid_subset))\n",
    "\n",
    "print(\"len(tiny_train_subset):\", len(tiny_train_subset))\n",
    "print(\"len(tiny_valid_subset):\", len(tiny_valid_subset))\n",
    "print(\"len(test_subset):\", len(test_subset))"
   ]
  },
  {
   "cell_type": "code",
   "execution_count": 42,
   "metadata": {},
   "outputs": [
    {
     "data": {
      "text/plain": [
       "array([0., 1., 0., 0., 0., 0., 0.], dtype=float32)"
      ]
     },
     "execution_count": 42,
     "metadata": {},
     "output_type": "execute_result"
    }
   ],
   "source": [
    "cid_num_map = {\"C1\": 1, \"C2\": 2, \"C3\": 3, \"C4\": 4, \"C5\": 5, \"TD\": 6, \"TS\": 0}\n",
    "\n",
    "# cid = classname(tiny_train_subset[0])\n",
    "# tf.keras.utils.to_categorical(list(cid_num_map.values()))\n",
    "tf.keras.utils.to_categorical(cid_num_map[\"C1\"], num_classes=7)"
   ]
  }
 ],
 "metadata": {
  "accelerator": "GPU",
  "colab": {
   "collapsed_sections": [],
   "name": "SelfSup-(Autoencoder, UCMERCED).ipynb",
   "provenance": []
  },
  "kernelspec": {
   "display_name": "Python 3",
   "language": "python",
   "name": "python3"
  },
  "language_info": {
   "codemirror_mode": {
    "name": "ipython",
    "version": 3
   },
   "file_extension": ".py",
   "mimetype": "text/x-python",
   "name": "python",
   "nbconvert_exporter": "python",
   "pygments_lexer": "ipython3",
   "version": "3.7.6"
  },
  "latex_envs": {
   "LaTeX_envs_menu_present": true,
   "autoclose": true,
   "autocomplete": true,
   "bibliofile": "biblio.bib",
   "cite_by": "apalike",
   "current_citInitial": 1,
   "eqLabelWithNumbers": true,
   "eqNumInitial": 1,
   "hotkeys": {
    "equation": "Ctrl-E",
    "itemize": "Ctrl-I"
   },
   "labels_anchors": false,
   "latex_user_defs": false,
   "report_style_numbering": false,
   "user_envs_cfg": false
  },
  "toc": {
   "base_numbering": 1,
   "nav_menu": {},
   "number_sections": true,
   "sideBar": false,
   "skip_h1_title": false,
   "title_cell": "Table of Contents",
   "title_sidebar": "Contents",
   "toc_cell": true,
   "toc_position": {},
   "toc_section_display": true,
   "toc_window_display": false
  },
  "varInspector": {
   "cols": {
    "lenName": 16,
    "lenType": 16,
    "lenVar": 40
   },
   "kernels_config": {
    "python": {
     "delete_cmd_postfix": "",
     "delete_cmd_prefix": "del ",
     "library": "var_list.py",
     "varRefreshCmd": "print(var_dic_list())"
    },
    "r": {
     "delete_cmd_postfix": ") ",
     "delete_cmd_prefix": "rm(",
     "library": "var_list.r",
     "varRefreshCmd": "cat(var_dic_list()) "
    }
   },
   "types_to_exclude": [
    "module",
    "function",
    "builtin_function_or_method",
    "instance",
    "_Feature"
   ],
   "window_display": false
  }
 },
 "nbformat": 4,
 "nbformat_minor": 4
}
